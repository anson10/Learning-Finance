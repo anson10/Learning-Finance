{
 "cells": [
  {
   "cell_type": "markdown",
   "metadata": {},
   "source": [
    "### STOCK PRICE PREDICTION AND FORECASTING USING STACKED LSTM"
   ]
  },
  {
   "cell_type": "code",
   "execution_count": 2,
   "metadata": {},
   "outputs": [],
   "source": [
    "import yfinance as yf \n",
    "import pandas as pd \n",
    "import matplotlib.pyplot as plt\n",
    "import numpy as np\n",
    "\n",
    "from sklearn.preprocessing import MinMaxScaler\n",
    "\n",
    "from tensorflow.keras.models import Sequential\n",
    "from tensorflow.keras.layers import Dense, LSTM\n",
    "\n",
    "import math\n",
    "from sklearn.metrics import mean_squared_error"
   ]
  },
  {
   "cell_type": "code",
   "execution_count": 13,
   "metadata": {},
   "outputs": [
    {
     "name": "stderr",
     "output_type": "stream",
     "text": [
      "[*********************100%***********************]  1 of 1 completed\n"
     ]
    }
   ],
   "source": [
    "df = yf.download(\"NVDA\", start=\"2020-01-01\", end=\"2023-12-31\")\n"
   ]
  },
  {
   "cell_type": "code",
   "execution_count": 14,
   "metadata": {},
   "outputs": [],
   "source": [
    "df.to_csv('updated_nvda_stock_data.csv')"
   ]
  },
  {
   "cell_type": "code",
   "execution_count": 17,
   "metadata": {},
   "outputs": [],
   "source": [
    "df = pd.read_csv('updated_nvda_stock_data.csv')"
   ]
  },
  {
   "cell_type": "code",
   "execution_count": 18,
   "metadata": {},
   "outputs": [
    {
     "data": {
      "text/html": [
       "<div>\n",
       "<style scoped>\n",
       "    .dataframe tbody tr th:only-of-type {\n",
       "        vertical-align: middle;\n",
       "    }\n",
       "\n",
       "    .dataframe tbody tr th {\n",
       "        vertical-align: top;\n",
       "    }\n",
       "\n",
       "    .dataframe thead th {\n",
       "        text-align: right;\n",
       "    }\n",
       "</style>\n",
       "<table border=\"1\" class=\"dataframe\">\n",
       "  <thead>\n",
       "    <tr style=\"text-align: right;\">\n",
       "      <th></th>\n",
       "      <th>Price</th>\n",
       "      <th>Close</th>\n",
       "      <th>High</th>\n",
       "      <th>Low</th>\n",
       "      <th>Open</th>\n",
       "      <th>Volume</th>\n",
       "    </tr>\n",
       "  </thead>\n",
       "  <tbody>\n",
       "    <tr>\n",
       "      <th>0</th>\n",
       "      <td>2020-01-02</td>\n",
       "      <td>5.972711</td>\n",
       "      <td>5.972711</td>\n",
       "      <td>5.893294</td>\n",
       "      <td>5.943832</td>\n",
       "      <td>237536000</td>\n",
       "    </tr>\n",
       "    <tr>\n",
       "      <th>1</th>\n",
       "      <td>2020-01-03</td>\n",
       "      <td>5.877112</td>\n",
       "      <td>5.920929</td>\n",
       "      <td>5.828068</td>\n",
       "      <td>5.852964</td>\n",
       "      <td>205384000</td>\n",
       "    </tr>\n",
       "    <tr>\n",
       "      <th>2</th>\n",
       "      <td>2020-01-06</td>\n",
       "      <td>5.901757</td>\n",
       "      <td>5.906985</td>\n",
       "      <td>5.757611</td>\n",
       "      <td>5.783752</td>\n",
       "      <td>262636000</td>\n",
       "    </tr>\n",
       "    <tr>\n",
       "      <th>3</th>\n",
       "      <td>2020-01-07</td>\n",
       "      <td>5.973208</td>\n",
       "      <td>6.019016</td>\n",
       "      <td>5.885078</td>\n",
       "      <td>5.930139</td>\n",
       "      <td>314856000</td>\n",
       "    </tr>\n",
       "    <tr>\n",
       "      <th>4</th>\n",
       "      <td>2020-01-08</td>\n",
       "      <td>5.984412</td>\n",
       "      <td>6.025739</td>\n",
       "      <td>5.928895</td>\n",
       "      <td>5.968976</td>\n",
       "      <td>277108000</td>\n",
       "    </tr>\n",
       "  </tbody>\n",
       "</table>\n",
       "</div>"
      ],
      "text/plain": [
       "        Price     Close      High       Low      Open     Volume\n",
       "0  2020-01-02  5.972711  5.972711  5.893294  5.943832  237536000\n",
       "1  2020-01-03  5.877112  5.920929  5.828068  5.852964  205384000\n",
       "2  2020-01-06  5.901757  5.906985  5.757611  5.783752  262636000\n",
       "3  2020-01-07  5.973208  6.019016  5.885078  5.930139  314856000\n",
       "4  2020-01-08  5.984412  6.025739  5.928895  5.968976  277108000"
      ]
     },
     "execution_count": 18,
     "metadata": {},
     "output_type": "execute_result"
    }
   ],
   "source": [
    "df.head()"
   ]
  },
  {
   "cell_type": "code",
   "execution_count": 19,
   "metadata": {},
   "outputs": [
    {
     "data": {
      "text/plain": [
       "1006"
      ]
     },
     "execution_count": 19,
     "metadata": {},
     "output_type": "execute_result"
    }
   ],
   "source": [
    "len(df)"
   ]
  },
  {
   "cell_type": "code",
   "execution_count": 20,
   "metadata": {},
   "outputs": [
    {
     "data": {
      "text/plain": [
       "Price     0\n",
       "Close     0\n",
       "High      0\n",
       "Low       0\n",
       "Open      0\n",
       "Volume    0\n",
       "dtype: int64"
      ]
     },
     "execution_count": 20,
     "metadata": {},
     "output_type": "execute_result"
    }
   ],
   "source": [
    "df.isnull().sum()"
   ]
  },
  {
   "cell_type": "code",
   "execution_count": 21,
   "metadata": {},
   "outputs": [
    {
     "data": {
      "text/html": [
       "<div>\n",
       "<style scoped>\n",
       "    .dataframe tbody tr th:only-of-type {\n",
       "        vertical-align: middle;\n",
       "    }\n",
       "\n",
       "    .dataframe tbody tr th {\n",
       "        vertical-align: top;\n",
       "    }\n",
       "\n",
       "    .dataframe thead th {\n",
       "        text-align: right;\n",
       "    }\n",
       "</style>\n",
       "<table border=\"1\" class=\"dataframe\">\n",
       "  <thead>\n",
       "    <tr style=\"text-align: right;\">\n",
       "      <th></th>\n",
       "      <th>Close</th>\n",
       "      <th>High</th>\n",
       "      <th>Low</th>\n",
       "      <th>Open</th>\n",
       "      <th>Volume</th>\n",
       "    </tr>\n",
       "  </thead>\n",
       "  <tbody>\n",
       "    <tr>\n",
       "      <th>count</th>\n",
       "      <td>1006.000000</td>\n",
       "      <td>1006.000000</td>\n",
       "      <td>1006.000000</td>\n",
       "      <td>1006.000000</td>\n",
       "      <td>1.006000e+03</td>\n",
       "    </tr>\n",
       "    <tr>\n",
       "      <th>mean</th>\n",
       "      <td>21.070585</td>\n",
       "      <td>21.451116</td>\n",
       "      <td>20.651922</td>\n",
       "      <td>21.057599</td>\n",
       "      <td>4.642033e+08</td>\n",
       "    </tr>\n",
       "    <tr>\n",
       "      <th>std</th>\n",
       "      <td>11.756655</td>\n",
       "      <td>11.935926</td>\n",
       "      <td>11.572673</td>\n",
       "      <td>11.770087</td>\n",
       "      <td>1.897755e+08</td>\n",
       "    </tr>\n",
       "    <tr>\n",
       "      <th>min</th>\n",
       "      <td>4.892426</td>\n",
       "      <td>5.229715</td>\n",
       "      <td>4.500833</td>\n",
       "      <td>4.984595</td>\n",
       "      <td>9.788400e+07</td>\n",
       "    </tr>\n",
       "    <tr>\n",
       "      <th>25%</th>\n",
       "      <td>13.127092</td>\n",
       "      <td>13.347937</td>\n",
       "      <td>12.915662</td>\n",
       "      <td>13.105958</td>\n",
       "      <td>3.314385e+08</td>\n",
       "    </tr>\n",
       "    <tr>\n",
       "      <th>50%</th>\n",
       "      <td>17.574623</td>\n",
       "      <td>17.902698</td>\n",
       "      <td>17.028869</td>\n",
       "      <td>17.482176</td>\n",
       "      <td>4.373750e+08</td>\n",
       "    </tr>\n",
       "    <tr>\n",
       "      <th>75%</th>\n",
       "      <td>26.508285</td>\n",
       "      <td>26.989456</td>\n",
       "      <td>26.133148</td>\n",
       "      <td>26.524959</td>\n",
       "      <td>5.657198e+08</td>\n",
       "    </tr>\n",
       "    <tr>\n",
       "      <th>max</th>\n",
       "      <td>50.390285</td>\n",
       "      <td>50.529234</td>\n",
       "      <td>49.397996</td>\n",
       "      <td>50.193218</td>\n",
       "      <td>1.543911e+09</td>\n",
       "    </tr>\n",
       "  </tbody>\n",
       "</table>\n",
       "</div>"
      ],
      "text/plain": [
       "             Close         High          Low         Open        Volume\n",
       "count  1006.000000  1006.000000  1006.000000  1006.000000  1.006000e+03\n",
       "mean     21.070585    21.451116    20.651922    21.057599  4.642033e+08\n",
       "std      11.756655    11.935926    11.572673    11.770087  1.897755e+08\n",
       "min       4.892426     5.229715     4.500833     4.984595  9.788400e+07\n",
       "25%      13.127092    13.347937    12.915662    13.105958  3.314385e+08\n",
       "50%      17.574623    17.902698    17.028869    17.482176  4.373750e+08\n",
       "75%      26.508285    26.989456    26.133148    26.524959  5.657198e+08\n",
       "max      50.390285    50.529234    49.397996    50.193218  1.543911e+09"
      ]
     },
     "execution_count": 21,
     "metadata": {},
     "output_type": "execute_result"
    }
   ],
   "source": [
    "df.describe()"
   ]
  },
  {
   "cell_type": "code",
   "execution_count": 22,
   "metadata": {},
   "outputs": [],
   "source": [
    "df1 = df.reset_index()['Close']"
   ]
  },
  {
   "cell_type": "code",
   "execution_count": 23,
   "metadata": {},
   "outputs": [
    {
     "data": {
      "text/plain": [
       "1        5.877112\n",
       "2        5.901757\n",
       "3        5.973208\n",
       "4        5.984412\n",
       "5        6.050137\n",
       "          ...    \n",
       "1001    48.816162\n",
       "1002    49.265030\n",
       "1003    49.402988\n",
       "1004    49.507965\n",
       "1005    49.507965\n",
       "Name: Close, Length: 1005, dtype: float64"
      ]
     },
     "execution_count": 23,
     "metadata": {},
     "output_type": "execute_result"
    }
   ],
   "source": [
    "df1[1:]"
   ]
  },
  {
   "cell_type": "code",
   "execution_count": 25,
   "metadata": {},
   "outputs": [
    {
     "data": {
      "text/plain": [
       "(1006,)"
      ]
     },
     "execution_count": 25,
     "metadata": {},
     "output_type": "execute_result"
    }
   ],
   "source": [
    "df1.shape"
   ]
  },
  {
   "cell_type": "code",
   "execution_count": 26,
   "metadata": {},
   "outputs": [
    {
     "data": {
      "text/plain": [
       "[<matplotlib.lines.Line2D at 0x7f70f9e39150>]"
      ]
     },
     "execution_count": 26,
     "metadata": {},
     "output_type": "execute_result"
    },
    {
     "data": {
      "image/png": "[encoded data removed]",
      "text/plain": [
       "<Figure size 640x480 with 1 Axes>"
      ]
     },
     "metadata": {},
     "output_type": "display_data"
    }
   ],
   "source": [
    "# visualising data\n",
    "\n",
    "plt.plot(df1)"
   ]
  },
  {
   "cell_type": "code",
   "execution_count": 27,
   "metadata": {},
   "outputs": [],
   "source": [
    "# scaling data\n",
    "\n",
    "scaler = MinMaxScaler(feature_range=(0,1))\n",
    "df1 = scaler.fit_transform(np.array(df1).reshape(-1,1))"
   ]
  },
  {
   "cell_type": "code",
   "execution_count": 28,
   "metadata": {},
   "outputs": [
    {
     "data": {
      "text/plain": [
       "(1006, 1)"
      ]
     },
     "execution_count": 28,
     "metadata": {},
     "output_type": "execute_result"
    }
   ],
   "source": [
    "df1.shape"
   ]
  },
  {
   "cell_type": "code",
   "execution_count": 29,
   "metadata": {},
   "outputs": [
    {
     "data": {
      "text/plain": [
       "array([[0.02374364],\n",
       "       [0.02164248],\n",
       "       [0.02218414],\n",
       "       ...,\n",
       "       [0.97830014],\n",
       "       [0.98060743],\n",
       "       [0.98060743]])"
      ]
     },
     "execution_count": 29,
     "metadata": {},
     "output_type": "execute_result"
    }
   ],
   "source": [
    "df1"
   ]
  },
  {
   "cell_type": "code",
   "execution_count": 30,
   "metadata": {},
   "outputs": [],
   "source": [
    "# Splitting dataset into train and test split\n",
    "\n",
    "training_size = int(len(df1)*0.65)\n",
    "test_size = len(df1) - training_size\n",
    "\n",
    "train_data, test_data = df1[0:training_size,:], df1[training_size:len(df1),:1]"
   ]
  },
  {
   "cell_type": "code",
   "execution_count": 31,
   "metadata": {},
   "outputs": [
    {
     "data": {
      "text/plain": [
       "array([[0.30929548],\n",
       "       [0.28304213],\n",
       "       [0.26752287],\n",
       "       [0.28971527],\n",
       "       [0.28631286],\n",
       "       [0.30314917],\n",
       "       [0.31023939],\n",
       "       [0.30688092],\n",
       "       [0.29493964],\n",
       "       [0.30455409],\n",
       "       [0.28427144],\n",
       "       [0.26638143],\n",
       "       [0.26960819],\n",
       "       [0.27050825],\n",
       "       [0.28567628],\n",
       "       [0.24939139],\n",
       "       [0.23931591],\n",
       "       [0.23200629],\n",
       "       [0.22379661],\n",
       "       [0.19839936],\n",
       "       [0.19203359],\n",
       "       [0.18803849],\n",
       "       [0.19359373],\n",
       "       [0.19965399],\n",
       "       [0.20837113],\n",
       "       [0.21096209],\n",
       "       [0.18079255],\n",
       "       [0.18072671],\n",
       "       [0.17635713],\n",
       "       [0.18226369],\n",
       "       [0.18630385],\n",
       "       [0.18178063],\n",
       "       [0.18364702],\n",
       "       [0.1682768 ],\n",
       "       [0.16728873],\n",
       "       [0.16096496],\n",
       "       [0.16502709],\n",
       "       [0.17211939],\n",
       "       [0.16078929],\n",
       "       [0.15901074],\n",
       "       [0.16720088],\n",
       "       [0.18158305],\n",
       "       [0.18250522],\n",
       "       [0.18077059],\n",
       "       [0.15762741],\n",
       "       [0.14871267],\n",
       "       [0.14686828],\n",
       "       [0.14497994],\n",
       "       [0.15508037],\n",
       "       [0.13898555],\n",
       "       [0.15349944],\n",
       "       [0.15523407],\n",
       "       [0.15707848],\n",
       "       [0.16021838],\n",
       "       [0.16619082],\n",
       "       [0.16911117],\n",
       "       [0.18364702],\n",
       "       [0.17563255],\n",
       "       [0.18178063],\n",
       "       [0.19622861],\n",
       "       [0.18882895],\n",
       "       [0.18983901],\n",
       "       [0.18272477],\n",
       "       [0.18716019],\n",
       "       [0.20329894],\n",
       "       [0.20648277],\n",
       "       [0.21309196],\n",
       "       [0.19495511],\n",
       "       [0.23829916],\n",
       "       [0.25096866],\n",
       "       [0.25026588],\n",
       "       [0.25841219],\n",
       "       [0.24181232],\n",
       "       [0.23669626],\n",
       "       [0.23081164],\n",
       "       [0.22879158],\n",
       "       [0.24462292],\n",
       "       [0.25518435],\n",
       "       [0.24971704],\n",
       "       [0.23998988],\n",
       "       [0.23586187],\n",
       "       [0.26415031],\n",
       "       [0.26880652],\n",
       "       [0.26311812],\n",
       "       [0.25727586],\n",
       "       [0.24359289],\n",
       "       [0.24651397],\n",
       "       [0.26955327],\n",
       "       [0.26586344],\n",
       "       [0.27759172],\n",
       "       [0.28938589],\n",
       "       [0.28064458],\n",
       "       [0.26478723],\n",
       "       [0.25641936],\n",
       "       [0.24945696],\n",
       "       [0.24574529],\n",
       "       [0.25488188],\n",
       "       [0.2293608 ],\n",
       "       [0.22643971],\n",
       "       [0.20260977],\n",
       "       [0.20074291],\n",
       "       [0.21319595],\n",
       "       [0.21343756],\n",
       "       [0.20687057],\n",
       "       [0.21640256],\n",
       "       [0.20577249],\n",
       "       [0.21881849],\n",
       "       [0.23570812],\n",
       "       [0.24187973],\n",
       "       [0.24390034],\n",
       "       [0.25510151],\n",
       "       [0.26362327],\n",
       "       [0.28125957],\n",
       "       [0.27412156],\n",
       "       [0.26068016],\n",
       "       [0.28426851],\n",
       "       [0.31400652],\n",
       "       [0.31558781],\n",
       "       [0.31686168],\n",
       "       [0.32738202],\n",
       "       [0.33974725],\n",
       "       [0.31332567],\n",
       "       [0.32156182],\n",
       "       [0.35244195],\n",
       "       [0.36926559],\n",
       "       [0.35589013],\n",
       "       [0.3556485 ],\n",
       "       [0.37945656],\n",
       "       [0.38015929],\n",
       "       [0.38305843],\n",
       "       [0.35951397],\n",
       "       [0.37100065],\n",
       "       [0.39698302],\n",
       "       [0.39243661],\n",
       "       [0.37570075],\n",
       "       [0.36221549],\n",
       "       [0.34611655],\n",
       "       [0.34829082],\n",
       "       [0.41220342],\n",
       "       [0.40390141],\n",
       "       [0.40862338],\n",
       "       [0.40236397],\n",
       "       [0.39098704],\n",
       "       [0.40451644],\n",
       "       [0.41716707],\n",
       "       [0.40978751],\n",
       "       [0.4040322 ],\n",
       "       [0.42364855],\n",
       "       [0.40728327],\n",
       "       [0.39693687],\n",
       "       [0.39695883],\n",
       "       [0.42105644],\n",
       "       [0.42468104],\n",
       "       [0.45352339],\n",
       "       [0.45756536],\n",
       "       [0.4614095 ],\n",
       "       [0.46797758],\n",
       "       [0.47388662],\n",
       "       [0.48976862],\n",
       "       [0.48071831],\n",
       "       [0.47527062],\n",
       "       [0.47261258],\n",
       "       [0.4852215 ],\n",
       "       [0.49398628],\n",
       "       [0.50264119],\n",
       "       [0.50677094],\n",
       "       [0.49552393],\n",
       "       [0.48295898],\n",
       "       [0.48638575],\n",
       "       [0.49829177],\n",
       "       [0.48928539],\n",
       "       [0.47447977],\n",
       "       [0.47377683],\n",
       "       [0.480257  ],\n",
       "       [0.48561695],\n",
       "       [0.50022486],\n",
       "       [0.50602406],\n",
       "       [0.48785758],\n",
       "       [0.488187  ],\n",
       "       [0.48649558],\n",
       "       [0.46890016],\n",
       "       [0.48460642],\n",
       "       [0.49053755],\n",
       "       [0.50202616],\n",
       "       [0.52752961],\n",
       "       [0.51215281],\n",
       "       [0.50319036],\n",
       "       [0.49791829],\n",
       "       [0.52247725],\n",
       "       [0.53282361],\n",
       "       [0.52008289],\n",
       "       [0.52698048],\n",
       "       [0.52023657],\n",
       "       [0.51500852],\n",
       "       [0.52847419],\n",
       "       [0.53418552],\n",
       "       [0.55538354],\n",
       "       [0.58833372],\n",
       "       [0.57923943],\n",
       "       [0.57730642],\n",
       "       [0.56658653],\n",
       "       [0.56329161],\n",
       "       [0.72676847],\n",
       "       [0.74798857],\n",
       "       [0.77357994],\n",
       "       [0.72356146],\n",
       "       [0.7660892 ],\n",
       "       [0.75635782],\n",
       "       [0.75293123],\n",
       "       [0.74157421],\n",
       "       [0.71576049],\n",
       "       [0.73849858],\n",
       "       [0.7442105 ],\n",
       "       [0.7598525 ],\n",
       "       [0.79368493],\n",
       "       [0.83707374],\n",
       "       [0.82951651],\n",
       "       [0.83037322],\n",
       "       [0.85489072],\n",
       "       [0.83812832],\n",
       "       [0.83768898],\n",
       "       [0.81976217],\n",
       "       [0.78511688],\n",
       "       [0.81244649],\n",
       "       [0.79577187],\n",
       "       [0.78929103],\n",
       "       [0.82180526],\n",
       "       [0.82424385],\n",
       "       [0.82213494],\n",
       "       [0.8174335 ],\n",
       "       [0.82622105],\n",
       "       [0.81912504],\n",
       "       [0.82406811],\n",
       "       [0.85695579],\n",
       "       [0.90254181],\n",
       "       [0.8913814 ],\n",
       "       [0.91317475],\n",
       "       [0.93586882],\n",
       "       [0.92670767],\n",
       "       [0.89250172],\n",
       "       [0.86589727],\n",
       "       [0.87255386],\n",
       "       [0.89599497],\n",
       "       [0.89100797],\n",
       "       [0.9008501 ],\n",
       "       [0.91952388],\n",
       "       [0.91906232],\n",
       "       [0.91418523],\n",
       "       [0.86501843],\n",
       "       [0.87042289],\n",
       "       [0.87404786],\n",
       "       [0.89023912],\n",
       "       [0.87369639],\n",
       "       [0.82734153],\n",
       "       [0.82369468],\n",
       "       [0.7900161 ],\n",
       "       [0.85368246],\n",
       "       [0.8577907 ],\n",
       "       [0.84781669],\n",
       "       [0.84469704],\n",
       "       [0.84370844],\n",
       "       [0.92429113],\n",
       "       [0.89575325],\n",
       "       [0.92756455],\n",
       "       [0.92859699],\n",
       "       [0.90344245],\n",
       "       [0.92139115],\n",
       "       [0.96420891],\n",
       "       [0.97475398],\n",
       "       [0.97675331],\n",
       "       [0.9581674 ],\n",
       "       [0.95902412],\n",
       "       [0.92644138],\n",
       "       [0.90842527],\n",
       "       [0.89372667],\n",
       "       [0.88507017],\n",
       "       [0.87830308],\n",
       "       [0.89181521],\n",
       "       [0.89392454],\n",
       "       [0.85699142],\n",
       "       [0.85844141],\n",
       "       [0.84864238],\n",
       "       [0.82049772],\n",
       "       [0.79364921],\n",
       "       [0.80667789],\n",
       "       [0.82012412],\n",
       "       [0.81329121],\n",
       "       [0.82552909],\n",
       "       [0.83917293],\n",
       "       [0.84818107],\n",
       "       [0.87636965],\n",
       "       [0.84857639],\n",
       "       [0.86008935],\n",
       "       [0.87430442],\n",
       "       [0.89790115],\n",
       "       [0.88715729],\n",
       "       [0.89869213],\n",
       "       [0.92083888],\n",
       "       [0.92389262],\n",
       "       [0.89128792],\n",
       "       [0.90521742],\n",
       "       [0.85782625],\n",
       "       [0.81955298],\n",
       "       [0.81746578],\n",
       "       [0.8017785 ],\n",
       "       [0.83666827],\n",
       "       [0.85178416],\n",
       "       [0.81039098],\n",
       "       [0.77846743],\n",
       "       [0.78229035],\n",
       "       [0.79681313],\n",
       "       [0.78844211],\n",
       "       [0.8223873 ],\n",
       "       [0.84833484],\n",
       "       [0.88126921],\n",
       "       [0.89765943],\n",
       "       [0.90214162],\n",
       "       [0.91574153],\n",
       "       [0.92400254],\n",
       "       [0.95443218],\n",
       "       [0.96069394],\n",
       "       [0.98345576],\n",
       "       [0.96658227],\n",
       "       [0.97958898],\n",
       "       [0.97559032],\n",
       "       [1.        ],\n",
       "       [0.98978342],\n",
       "       [0.96280319],\n",
       "       [0.94215062],\n",
       "       [0.95238891],\n",
       "       [0.94313922],\n",
       "       [0.95014803],\n",
       "       [0.92004773],\n",
       "       [0.91993789],\n",
       "       [0.89236438],\n",
       "       [0.91565576],\n",
       "       [0.89229857],\n",
       "       [0.91631485],\n",
       "       [0.93631017],\n",
       "       [0.91699608],\n",
       "       [0.93962802],\n",
       "       [0.94909839],\n",
       "       [0.95485525],\n",
       "       [0.96672061],\n",
       "       [0.99280229],\n",
       "       [0.98240914],\n",
       "       [0.94960363],\n",
       "       [0.96891789],\n",
       "       [0.96540225],\n",
       "       [0.97526794],\n",
       "       [0.97830014],\n",
       "       [0.98060743],\n",
       "       [0.98060743]])"
      ]
     },
     "execution_count": 31,
     "metadata": {},
     "output_type": "execute_result"
    }
   ],
   "source": [
    "test_data"
   ]
  },
  {
   "cell_type": "code",
   "execution_count": 32,
   "metadata": {},
   "outputs": [],
   "source": [
    "def create_dataset(dataset, time_step=1):\n",
    "    X_data, Y_data = [], []\n",
    "    for i in range(len(dataset)-time_step-1):\n",
    "        a = dataset[i:(i+time_step),0]\n",
    "        X_data.append(a)\n",
    "        Y_data.append(dataset[i + time_step, 0])\n",
    "    return np.array(X_data), np.array(Y_data)"
   ]
  },
  {
   "cell_type": "code",
   "execution_count": 33,
   "metadata": {},
   "outputs": [],
   "source": [
    "time_step = 75\n",
    "X_train, y_train = create_dataset(train_data, time_step)\n",
    "X_test, y_test = create_dataset(test_data, time_step)\n"
   ]
  },
  {
   "cell_type": "code",
   "execution_count": 34,
   "metadata": {},
   "outputs": [
    {
     "name": "stdout",
     "output_type": "stream",
     "text": [
      "(577, 75) (577,)\n"
     ]
    }
   ],
   "source": [
    "print(X_train.shape, y_train.shape)"
   ]
  },
  {
   "cell_type": "code",
   "execution_count": 35,
   "metadata": {},
   "outputs": [
    {
     "name": "stdout",
     "output_type": "stream",
     "text": [
      "(277, 75) (277,)\n"
     ]
    }
   ],
   "source": [
    "print(X_test.shape, y_test.shape)"
   ]
  },
  {
   "cell_type": "code",
   "execution_count": 36,
   "metadata": {},
   "outputs": [
    {
     "data": {
      "text/plain": [
       "75"
      ]
     },
     "execution_count": 36,
     "metadata": {},
     "output_type": "execute_result"
    }
   ],
   "source": [
    "X_train.shape[1]"
   ]
  },
  {
   "cell_type": "code",
   "execution_count": 38,
   "metadata": {},
   "outputs": [],
   "source": [
    "# creating a stacked LSTM model\n",
    "\n",
    "X_train = X_train.reshape(X_train.shape[0], X_train.shape[1], 1)\n",
    "X_test = X_test.reshape(X_test.shape[0], X_test.shape[1], 1)\n",
    "\n",
    "model = Sequential()\n",
    "model.add(LSTM(50, return_sequences=True, input_shape=(75,1)))\n",
    "model.add(LSTM(50, return_sequences=True))\n",
    "model.add(LSTM(50))\n",
    "model.add(Dense(1))\n",
    "model.compile(loss='mean_squared_error', optimizer='adam')\n"
   ]
  },
  {
   "cell_type": "code",
   "execution_count": 39,
   "metadata": {},
   "outputs": [
    {
     "data": {
      "text/html": [
       "<pre style=\"white-space:pre;overflow-x:auto;line-height:normal;font-family:Menlo,'DejaVu Sans Mono',consolas,'Courier New',monospace\"><span style=\"font-weight: bold\">Model: \"sequential_1\"</span>\n",
       "</pre>\n"
      ],
      "text/plain": [
       "\u001b[1mModel: \"sequential_1\"\u001b[0m\n"
      ]
     },
     "metadata": {},
     "output_type": "display_data"
    },
    {
     "data": {
      "text/html": [
       "<pre style=\"white-space:pre;overflow-x:auto;line-height:normal;font-family:Menlo,'DejaVu Sans Mono',consolas,'Courier New',monospace\">┏━━━━━━━━━━━━━━━━━━━━━━━━━━━━━━━━━┳━━━━━━━━━━━━━━━━━━━━━━━━┳━━━━━━━━━━━━━━━┓\n",
       "┃<span style=\"font-weight: bold\"> Layer (type)                    </span>┃<span style=\"font-weight: bold\"> Output Shape           </span>┃<span style=\"font-weight: bold\">       Param # </span>┃\n",
       "┡━━━━━━━━━━━━━━━━━━━━━━━━━━━━━━━━━╇━━━━━━━━━━━━━━━━━━━━━━━━╇━━━━━━━━━━━━━━━┩\n",
       "│ lstm_3 (<span style=\"color: #0087ff; text-decoration-color: #0087ff\">LSTM</span>)                   │ (<span style=\"color: #00d7ff; text-decoration-color: #00d7ff\">None</span>, <span style=\"color: #00af00; text-decoration-color: #00af00\">75</span>, <span style=\"color: #00af00; text-decoration-color: #00af00\">50</span>)         │        <span style=\"color: #00af00; text-decoration-color: #00af00\">10,400</span> │\n",
       "├─────────────────────────────────┼────────────────────────┼───────────────┤\n",
       "│ lstm_4 (<span style=\"color: #0087ff; text-decoration-color: #0087ff\">LSTM</span>)                   │ (<span style=\"color: #00d7ff; text-decoration-color: #00d7ff\">None</span>, <span style=\"color: #00af00; text-decoration-color: #00af00\">75</span>, <span style=\"color: #00af00; text-decoration-color: #00af00\">50</span>)         │        <span style=\"color: #00af00; text-decoration-color: #00af00\">20,200</span> │\n",
       "├─────────────────────────────────┼────────────────────────┼───────────────┤\n",
       "│ lstm_5 (<span style=\"color: #0087ff; text-decoration-color: #0087ff\">LSTM</span>)                   │ (<span style=\"color: #00d7ff; text-decoration-color: #00d7ff\">None</span>, <span style=\"color: #00af00; text-decoration-color: #00af00\">50</span>)             │        <span style=\"color: #00af00; text-decoration-color: #00af00\">20,200</span> │\n",
       "├─────────────────────────────────┼────────────────────────┼───────────────┤\n",
       "│ dense_1 (<span style=\"color: #0087ff; text-decoration-color: #0087ff\">Dense</span>)                 │ (<span style=\"color: #00d7ff; text-decoration-color: #00d7ff\">None</span>, <span style=\"color: #00af00; text-decoration-color: #00af00\">1</span>)              │            <span style=\"color: #00af00; text-decoration-color: #00af00\">51</span> │\n",
       "└─────────────────────────────────┴────────────────────────┴───────────────┘\n",
       "</pre>\n"
      ],
      "text/plain": [
       "┏━━━━━━━━━━━━━━━━━━━━━━━━━━━━━━━━━┳━━━━━━━━━━━━━━━━━━━━━━━━┳━━━━━━━━━━━━━━━┓\n",
       "┃\u001b[1m \u001b[0m\u001b[1mLayer (type)                   \u001b[0m\u001b[1m \u001b[0m┃\u001b[1m \u001b[0m\u001b[1mOutput Shape          \u001b[0m\u001b[1m \u001b[0m┃\u001b[1m \u001b[0m\u001b[1m      Param #\u001b[0m\u001b[1m \u001b[0m┃\n",
       "┡━━━━━━━━━━━━━━━━━━━━━━━━━━━━━━━━━╇━━━━━━━━━━━━━━━━━━━━━━━━╇━━━━━━━━━━━━━━━┩\n",
       "│ lstm_3 (\u001b[38;5;33mLSTM\u001b[0m)                   │ (\u001b[38;5;45mNone\u001b[0m, \u001b[38;5;34m75\u001b[0m, \u001b[38;5;34m50\u001b[0m)         │        \u001b[38;5;34m10,400\u001b[0m │\n",
       "├─────────────────────────────────┼────────────────────────┼───────────────┤\n",
       "│ lstm_4 (\u001b[38;5;33mLSTM\u001b[0m)                   │ (\u001b[38;5;45mNone\u001b[0m, \u001b[38;5;34m75\u001b[0m, \u001b[38;5;34m50\u001b[0m)         │        \u001b[38;5;34m20,200\u001b[0m │\n",
       "├─────────────────────────────────┼────────────────────────┼───────────────┤\n",
       "│ lstm_5 (\u001b[38;5;33mLSTM\u001b[0m)                   │ (\u001b[38;5;45mNone\u001b[0m, \u001b[38;5;34m50\u001b[0m)             │        \u001b[38;5;34m20,200\u001b[0m │\n",
       "├─────────────────────────────────┼────────────────────────┼───────────────┤\n",
       "│ dense_1 (\u001b[38;5;33mDense\u001b[0m)                 │ (\u001b[38;5;45mNone\u001b[0m, \u001b[38;5;34m1\u001b[0m)              │            \u001b[38;5;34m51\u001b[0m │\n",
       "└─────────────────────────────────┴────────────────────────┴───────────────┘\n"
      ]
     },
     "metadata": {},
     "output_type": "display_data"
    },
    {
     "data": {
      "text/html": [
       "<pre style=\"white-space:pre;overflow-x:auto;line-height:normal;font-family:Menlo,'DejaVu Sans Mono',consolas,'Courier New',monospace\"><span style=\"font-weight: bold\"> Total params: </span><span style=\"color: #00af00; text-decoration-color: #00af00\">50,851</span> (198.64 KB)\n",
       "</pre>\n"
      ],
      "text/plain": [
       "\u001b[1m Total params: \u001b[0m\u001b[38;5;34m50,851\u001b[0m (198.64 KB)\n"
      ]
     },
     "metadata": {},
     "output_type": "display_data"
    },
    {
     "data": {
      "text/html": [
       "<pre style=\"white-space:pre;overflow-x:auto;line-height:normal;font-family:Menlo,'DejaVu Sans Mono',consolas,'Courier New',monospace\"><span style=\"font-weight: bold\"> Trainable params: </span><span style=\"color: #00af00; text-decoration-color: #00af00\">50,851</span> (198.64 KB)\n",
       "</pre>\n"
      ],
      "text/plain": [
       "\u001b[1m Trainable params: \u001b[0m\u001b[38;5;34m50,851\u001b[0m (198.64 KB)\n"
      ]
     },
     "metadata": {},
     "output_type": "display_data"
    },
    {
     "data": {
      "text/html": [
       "<pre style=\"white-space:pre;overflow-x:auto;line-height:normal;font-family:Menlo,'DejaVu Sans Mono',consolas,'Courier New',monospace\"><span style=\"font-weight: bold\"> Non-trainable params: </span><span style=\"color: #00af00; text-decoration-color: #00af00\">0</span> (0.00 B)\n",
       "</pre>\n"
      ],
      "text/plain": [
       "\u001b[1m Non-trainable params: \u001b[0m\u001b[38;5;34m0\u001b[0m (0.00 B)\n"
      ]
     },
     "metadata": {},
     "output_type": "display_data"
    }
   ],
   "source": [
    "model.summary()"
   ]
  },
  {
   "cell_type": "code",
   "execution_count": 40,
   "metadata": {},
   "outputs": [
    {
     "name": "stdout",
     "output_type": "stream",
     "text": [
      "Epoch 1/100\n"
     ]
    },
    {
     "name": "stderr",
     "output_type": "stream",
     "text": [
      "I0000 00:00:1735018250.625312   73945 cuda_dnn.cc:529] Loaded cuDNN version 90300\n"
     ]
    },
    {
     "name": "stdout",
     "output_type": "stream",
     "text": [
      "\u001b[1m19/19\u001b[0m \u001b[32m━━━━━━━━━━━━━━━━━━━━\u001b[0m\u001b[37m\u001b[0m \u001b[1m9s\u001b[0m 112ms/step - loss: 0.0226 - val_loss: 0.0164\n",
      "Epoch 2/100\n",
      "\u001b[1m19/19\u001b[0m \u001b[32m━━━━━━━━━━━━━━━━━━━━\u001b[0m\u001b[37m\u001b[0m \u001b[1m1s\u001b[0m 44ms/step - loss: 0.0029 - val_loss: 0.0060\n",
      "Epoch 3/100\n",
      "\u001b[1m19/19\u001b[0m \u001b[32m━━━━━━━━━━━━━━━━━━━━\u001b[0m\u001b[37m\u001b[0m \u001b[1m1s\u001b[0m 55ms/step - loss: 0.0019 - val_loss: 0.0084\n",
      "Epoch 4/100\n",
      "\u001b[1m19/19\u001b[0m \u001b[32m━━━━━━━━━━━━━━━━━━━━\u001b[0m\u001b[37m\u001b[0m \u001b[1m1s\u001b[0m 57ms/step - loss: 0.0016 - val_loss: 0.0107\n",
      "Epoch 5/100\n",
      "\u001b[1m19/19\u001b[0m \u001b[32m━━━━━━━━━━━━━━━━━━━━\u001b[0m\u001b[37m\u001b[0m \u001b[1m1s\u001b[0m 49ms/step - loss: 0.0017 - val_loss: 0.0050\n",
      "Epoch 6/100\n",
      "\u001b[1m19/19\u001b[0m \u001b[32m━━━━━━━━━━━━━━━━━━━━\u001b[0m\u001b[37m\u001b[0m \u001b[1m1s\u001b[0m 49ms/step - loss: 0.0014 - val_loss: 0.0041\n",
      "Epoch 7/100\n",
      "\u001b[1m19/19\u001b[0m \u001b[32m━━━━━━━━━━━━━━━━━━━━\u001b[0m\u001b[37m\u001b[0m \u001b[1m1s\u001b[0m 53ms/step - loss: 0.0015 - val_loss: 0.0030\n",
      "Epoch 8/100\n",
      "\u001b[1m19/19\u001b[0m \u001b[32m━━━━━━━━━━━━━━━━━━━━\u001b[0m\u001b[37m\u001b[0m \u001b[1m1s\u001b[0m 50ms/step - loss: 0.0015 - val_loss: 0.0033\n",
      "Epoch 9/100\n",
      "\u001b[1m19/19\u001b[0m \u001b[32m━━━━━━━━━━━━━━━━━━━━\u001b[0m\u001b[37m\u001b[0m \u001b[1m1s\u001b[0m 56ms/step - loss: 0.0014 - val_loss: 0.0087\n",
      "Epoch 10/100\n",
      "\u001b[1m19/19\u001b[0m \u001b[32m━━━━━━━━━━━━━━━━━━━━\u001b[0m\u001b[37m\u001b[0m \u001b[1m1s\u001b[0m 56ms/step - loss: 0.0014 - val_loss: 0.0023\n",
      "Epoch 11/100\n",
      "\u001b[1m19/19\u001b[0m \u001b[32m━━━━━━━━━━━━━━━━━━━━\u001b[0m\u001b[37m\u001b[0m \u001b[1m1s\u001b[0m 48ms/step - loss: 0.0015 - val_loss: 0.0097\n",
      "Epoch 12/100\n",
      "\u001b[1m19/19\u001b[0m \u001b[32m━━━━━━━━━━━━━━━━━━━━\u001b[0m\u001b[37m\u001b[0m \u001b[1m1s\u001b[0m 51ms/step - loss: 0.0012 - val_loss: 0.0046\n",
      "Epoch 13/100\n",
      "\u001b[1m19/19\u001b[0m \u001b[32m━━━━━━━━━━━━━━━━━━━━\u001b[0m\u001b[37m\u001b[0m \u001b[1m1s\u001b[0m 50ms/step - loss: 9.1787e-04 - val_loss: 0.0129\n",
      "Epoch 14/100\n",
      "\u001b[1m19/19\u001b[0m \u001b[32m━━━━━━━━━━━━━━━━━━━━\u001b[0m\u001b[37m\u001b[0m \u001b[1m1s\u001b[0m 55ms/step - loss: 0.0010 - val_loss: 0.0032\n",
      "Epoch 15/100\n",
      "\u001b[1m19/19\u001b[0m \u001b[32m━━━━━━━━━━━━━━━━━━━━\u001b[0m\u001b[37m\u001b[0m \u001b[1m1s\u001b[0m 48ms/step - loss: 0.0010 - val_loss: 0.0100\n",
      "Epoch 16/100\n",
      "\u001b[1m19/19\u001b[0m \u001b[32m━━━━━━━━━━━━━━━━━━━━\u001b[0m\u001b[37m\u001b[0m \u001b[1m1s\u001b[0m 54ms/step - loss: 9.7536e-04 - val_loss: 0.0113\n",
      "Epoch 17/100\n",
      "\u001b[1m19/19\u001b[0m \u001b[32m━━━━━━━━━━━━━━━━━━━━\u001b[0m\u001b[37m\u001b[0m \u001b[1m1s\u001b[0m 50ms/step - loss: 9.6165e-04 - val_loss: 0.0102\n",
      "Epoch 18/100\n",
      "\u001b[1m19/19\u001b[0m \u001b[32m━━━━━━━━━━━━━━━━━━━━\u001b[0m\u001b[37m\u001b[0m \u001b[1m1s\u001b[0m 49ms/step - loss: 9.3216e-04 - val_loss: 0.0220\n",
      "Epoch 19/100\n",
      "\u001b[1m19/19\u001b[0m \u001b[32m━━━━━━━━━━━━━━━━━━━━\u001b[0m\u001b[37m\u001b[0m \u001b[1m1s\u001b[0m 49ms/step - loss: 0.0011 - val_loss: 0.0037\n",
      "Epoch 20/100\n",
      "\u001b[1m19/19\u001b[0m \u001b[32m━━━━━━━━━━━━━━━━━━━━\u001b[0m\u001b[37m\u001b[0m \u001b[1m1s\u001b[0m 56ms/step - loss: 7.1040e-04 - val_loss: 0.0057\n",
      "Epoch 21/100\n",
      "\u001b[1m19/19\u001b[0m \u001b[32m━━━━━━━━━━━━━━━━━━━━\u001b[0m\u001b[37m\u001b[0m \u001b[1m1s\u001b[0m 54ms/step - loss: 6.7063e-04 - val_loss: 0.0028\n",
      "Epoch 22/100\n",
      "\u001b[1m19/19\u001b[0m \u001b[32m━━━━━━━━━━━━━━━━━━━━\u001b[0m\u001b[37m\u001b[0m \u001b[1m1s\u001b[0m 65ms/step - loss: 8.4791e-04 - val_loss: 0.0027\n",
      "Epoch 23/100\n",
      "\u001b[1m19/19\u001b[0m \u001b[32m━━━━━━━━━━━━━━━━━━━━\u001b[0m\u001b[37m\u001b[0m \u001b[1m1s\u001b[0m 64ms/step - loss: 7.0757e-04 - val_loss: 0.0046\n",
      "Epoch 24/100\n",
      "\u001b[1m19/19\u001b[0m \u001b[32m━━━━━━━━━━━━━━━━━━━━\u001b[0m\u001b[37m\u001b[0m \u001b[1m1s\u001b[0m 69ms/step - loss: 5.9534e-04 - val_loss: 0.0091\n",
      "Epoch 25/100\n",
      "\u001b[1m19/19\u001b[0m \u001b[32m━━━━━━━━━━━━━━━━━━━━\u001b[0m\u001b[37m\u001b[0m \u001b[1m1s\u001b[0m 57ms/step - loss: 6.5110e-04 - val_loss: 0.0019\n",
      "Epoch 26/100\n",
      "\u001b[1m19/19\u001b[0m \u001b[32m━━━━━━━━━━━━━━━━━━━━\u001b[0m\u001b[37m\u001b[0m \u001b[1m1s\u001b[0m 55ms/step - loss: 0.0013 - val_loss: 0.0056\n",
      "Epoch 27/100\n",
      "\u001b[1m19/19\u001b[0m \u001b[32m━━━━━━━━━━━━━━━━━━━━\u001b[0m\u001b[37m\u001b[0m \u001b[1m1s\u001b[0m 61ms/step - loss: 5.4715e-04 - val_loss: 0.0018\n",
      "Epoch 28/100\n",
      "\u001b[1m19/19\u001b[0m \u001b[32m━━━━━━━━━━━━━━━━━━━━\u001b[0m\u001b[37m\u001b[0m \u001b[1m3s\u001b[0m 140ms/step - loss: 5.6624e-04 - val_loss: 0.0014\n",
      "Epoch 29/100\n",
      "\u001b[1m19/19\u001b[0m \u001b[32m━━━━━━━━━━━━━━━━━━━━\u001b[0m\u001b[37m\u001b[0m \u001b[1m1s\u001b[0m 53ms/step - loss: 7.4138e-04 - val_loss: 0.0016\n",
      "Epoch 30/100\n",
      "\u001b[1m19/19\u001b[0m \u001b[32m━━━━━━━━━━━━━━━━━━━━\u001b[0m\u001b[37m\u001b[0m \u001b[1m1s\u001b[0m 58ms/step - loss: 8.6511e-04 - val_loss: 0.0027\n",
      "Epoch 31/100\n",
      "\u001b[1m19/19\u001b[0m \u001b[32m━━━━━━━━━━━━━━━━━━━━\u001b[0m\u001b[37m\u001b[0m \u001b[1m1s\u001b[0m 52ms/step - loss: 4.5951e-04 - val_loss: 0.0040\n",
      "Epoch 32/100\n",
      "\u001b[1m19/19\u001b[0m \u001b[32m━━━━━━━━━━━━━━━━━━━━\u001b[0m\u001b[37m\u001b[0m \u001b[1m1s\u001b[0m 56ms/step - loss: 5.0374e-04 - val_loss: 0.0029\n",
      "Epoch 33/100\n",
      "\u001b[1m19/19\u001b[0m \u001b[32m━━━━━━━━━━━━━━━━━━━━\u001b[0m\u001b[37m\u001b[0m \u001b[1m1s\u001b[0m 55ms/step - loss: 0.0011 - val_loss: 0.0046\n",
      "Epoch 34/100\n",
      "\u001b[1m19/19\u001b[0m \u001b[32m━━━━━━━━━━━━━━━━━━━━\u001b[0m\u001b[37m\u001b[0m \u001b[1m1s\u001b[0m 50ms/step - loss: 5.0387e-04 - val_loss: 0.0012\n",
      "Epoch 35/100\n",
      "\u001b[1m19/19\u001b[0m \u001b[32m━━━━━━━━━━━━━━━━━━━━\u001b[0m\u001b[37m\u001b[0m \u001b[1m1s\u001b[0m 55ms/step - loss: 5.4230e-04 - val_loss: 0.0043\n",
      "Epoch 36/100\n",
      "\u001b[1m19/19\u001b[0m \u001b[32m━━━━━━━━━━━━━━━━━━━━\u001b[0m\u001b[37m\u001b[0m \u001b[1m1s\u001b[0m 66ms/step - loss: 4.6910e-04 - val_loss: 0.0051\n",
      "Epoch 37/100\n",
      "\u001b[1m19/19\u001b[0m \u001b[32m━━━━━━━━━━━━━━━━━━━━\u001b[0m\u001b[37m\u001b[0m \u001b[1m1s\u001b[0m 62ms/step - loss: 8.9333e-04 - val_loss: 0.0011\n",
      "Epoch 38/100\n",
      "\u001b[1m19/19\u001b[0m \u001b[32m━━━━━━━━━━━━━━━━━━━━\u001b[0m\u001b[37m\u001b[0m \u001b[1m1s\u001b[0m 64ms/step - loss: 4.4032e-04 - val_loss: 0.0021\n",
      "Epoch 39/100\n",
      "\u001b[1m19/19\u001b[0m \u001b[32m━━━━━━━━━━━━━━━━━━━━\u001b[0m\u001b[37m\u001b[0m \u001b[1m1s\u001b[0m 51ms/step - loss: 4.6857e-04 - val_loss: 0.0012\n",
      "Epoch 40/100\n",
      "\u001b[1m19/19\u001b[0m \u001b[32m━━━━━━━━━━━━━━━━━━━━\u001b[0m\u001b[37m\u001b[0m \u001b[1m1s\u001b[0m 53ms/step - loss: 5.2186e-04 - val_loss: 0.0109\n",
      "Epoch 41/100\n",
      "\u001b[1m19/19\u001b[0m \u001b[32m━━━━━━━━━━━━━━━━━━━━\u001b[0m\u001b[37m\u001b[0m \u001b[1m1s\u001b[0m 57ms/step - loss: 0.0010 - val_loss: 0.0016\n",
      "Epoch 42/100\n",
      "\u001b[1m19/19\u001b[0m \u001b[32m━━━━━━━━━━━━━━━━━━━━\u001b[0m\u001b[37m\u001b[0m \u001b[1m1s\u001b[0m 46ms/step - loss: 4.6813e-04 - val_loss: 0.0014\n",
      "Epoch 43/100\n",
      "\u001b[1m19/19\u001b[0m \u001b[32m━━━━━━━━━━━━━━━━━━━━\u001b[0m\u001b[37m\u001b[0m \u001b[1m1s\u001b[0m 59ms/step - loss: 3.9005e-04 - val_loss: 0.0012\n",
      "Epoch 44/100\n",
      "\u001b[1m19/19\u001b[0m \u001b[32m━━━━━━━━━━━━━━━━━━━━\u001b[0m\u001b[37m\u001b[0m \u001b[1m1s\u001b[0m 72ms/step - loss: 5.5247e-04 - val_loss: 0.0015\n",
      "Epoch 45/100\n",
      "\u001b[1m19/19\u001b[0m \u001b[32m━━━━━━━━━━━━━━━━━━━━\u001b[0m\u001b[37m\u001b[0m \u001b[1m1s\u001b[0m 45ms/step - loss: 4.4348e-04 - val_loss: 0.0050\n",
      "Epoch 46/100\n",
      "\u001b[1m19/19\u001b[0m \u001b[32m━━━━━━━━━━━━━━━━━━━━\u001b[0m\u001b[37m\u001b[0m \u001b[1m1s\u001b[0m 48ms/step - loss: 8.0250e-04 - val_loss: 0.0010\n",
      "Epoch 47/100\n",
      "\u001b[1m19/19\u001b[0m \u001b[32m━━━━━━━━━━━━━━━━━━━━\u001b[0m\u001b[37m\u001b[0m \u001b[1m2s\u001b[0m 81ms/step - loss: 5.3338e-04 - val_loss: 0.0010\n",
      "Epoch 48/100\n",
      "\u001b[1m19/19\u001b[0m \u001b[32m━━━━━━━━━━━━━━━━━━━━\u001b[0m\u001b[37m\u001b[0m \u001b[1m2s\u001b[0m 102ms/step - loss: 7.2799e-04 - val_loss: 0.0070\n",
      "Epoch 49/100\n",
      "\u001b[1m19/19\u001b[0m \u001b[32m━━━━━━━━━━━━━━━━━━━━\u001b[0m\u001b[37m\u001b[0m \u001b[1m1s\u001b[0m 56ms/step - loss: 5.6823e-04 - val_loss: 0.0011\n",
      "Epoch 50/100\n",
      "\u001b[1m19/19\u001b[0m \u001b[32m━━━━━━━━━━━━━━━━━━━━\u001b[0m\u001b[37m\u001b[0m \u001b[1m1s\u001b[0m 59ms/step - loss: 4.5041e-04 - val_loss: 0.0028\n",
      "Epoch 51/100\n",
      "\u001b[1m19/19\u001b[0m \u001b[32m━━━━━━━━━━━━━━━━━━━━\u001b[0m\u001b[37m\u001b[0m \u001b[1m1s\u001b[0m 66ms/step - loss: 3.5973e-04 - val_loss: 0.0031\n",
      "Epoch 52/100\n",
      "\u001b[1m19/19\u001b[0m \u001b[32m━━━━━━━━━━━━━━━━━━━━\u001b[0m\u001b[37m\u001b[0m \u001b[1m3s\u001b[0m 83ms/step - loss: 3.5627e-04 - val_loss: 0.0045\n",
      "Epoch 53/100\n",
      "\u001b[1m19/19\u001b[0m \u001b[32m━━━━━━━━━━━━━━━━━━━━\u001b[0m\u001b[37m\u001b[0m \u001b[1m1s\u001b[0m 56ms/step - loss: 4.4877e-04 - val_loss: 0.0012\n",
      "Epoch 54/100\n",
      "\u001b[1m19/19\u001b[0m \u001b[32m━━━━━━━━━━━━━━━━━━━━\u001b[0m\u001b[37m\u001b[0m \u001b[1m3s\u001b[0m 157ms/step - loss: 4.1736e-04 - val_loss: 0.0044\n",
      "Epoch 55/100\n",
      "\u001b[1m19/19\u001b[0m \u001b[32m━━━━━━━━━━━━━━━━━━━━\u001b[0m\u001b[37m\u001b[0m \u001b[1m1s\u001b[0m 66ms/step - loss: 4.3078e-04 - val_loss: 0.0028\n",
      "Epoch 56/100\n",
      "\u001b[1m19/19\u001b[0m \u001b[32m━━━━━━━━━━━━━━━━━━━━\u001b[0m\u001b[37m\u001b[0m \u001b[1m1s\u001b[0m 51ms/step - loss: 4.4686e-04 - val_loss: 0.0041\n",
      "Epoch 57/100\n",
      "\u001b[1m19/19\u001b[0m \u001b[32m━━━━━━━━━━━━━━━━━━━━\u001b[0m\u001b[37m\u001b[0m \u001b[1m1s\u001b[0m 53ms/step - loss: 6.6821e-04 - val_loss: 0.0026\n",
      "Epoch 58/100\n",
      "\u001b[1m19/19\u001b[0m \u001b[32m━━━━━━━━━━━━━━━━━━━━\u001b[0m\u001b[37m\u001b[0m \u001b[1m1s\u001b[0m 54ms/step - loss: 5.0152e-04 - val_loss: 0.0033\n",
      "Epoch 59/100\n",
      "\u001b[1m19/19\u001b[0m \u001b[32m━━━━━━━━━━━━━━━━━━━━\u001b[0m\u001b[37m\u001b[0m \u001b[1m1s\u001b[0m 52ms/step - loss: 6.6179e-04 - val_loss: 0.0010\n",
      "Epoch 60/100\n",
      "\u001b[1m19/19\u001b[0m \u001b[32m━━━━━━━━━━━━━━━━━━━━\u001b[0m\u001b[37m\u001b[0m \u001b[1m1s\u001b[0m 48ms/step - loss: 3.8064e-04 - val_loss: 0.0018\n",
      "Epoch 61/100\n",
      "\u001b[1m19/19\u001b[0m \u001b[32m━━━━━━━━━━━━━━━━━━━━\u001b[0m\u001b[37m\u001b[0m \u001b[1m1s\u001b[0m 57ms/step - loss: 4.0341e-04 - val_loss: 0.0041\n",
      "Epoch 62/100\n",
      "\u001b[1m19/19\u001b[0m \u001b[32m━━━━━━━━━━━━━━━━━━━━\u001b[0m\u001b[37m\u001b[0m \u001b[1m1s\u001b[0m 68ms/step - loss: 5.6099e-04 - val_loss: 8.8312e-04\n",
      "Epoch 63/100\n",
      "\u001b[1m19/19\u001b[0m \u001b[32m━━━━━━━━━━━━━━━━━━━━\u001b[0m\u001b[37m\u001b[0m \u001b[1m2s\u001b[0m 84ms/step - loss: 4.0757e-04 - val_loss: 0.0022\n",
      "Epoch 64/100\n",
      "\u001b[1m19/19\u001b[0m \u001b[32m━━━━━━━━━━━━━━━━━━━━\u001b[0m\u001b[37m\u001b[0m \u001b[1m1s\u001b[0m 67ms/step - loss: 3.8565e-04 - val_loss: 0.0022\n",
      "Epoch 65/100\n",
      "\u001b[1m19/19\u001b[0m \u001b[32m━━━━━━━━━━━━━━━━━━━━\u001b[0m\u001b[37m\u001b[0m \u001b[1m1s\u001b[0m 52ms/step - loss: 3.1391e-04 - val_loss: 0.0033\n",
      "Epoch 66/100\n",
      "\u001b[1m19/19\u001b[0m \u001b[32m━━━━━━━━━━━━━━━━━━━━\u001b[0m\u001b[37m\u001b[0m \u001b[1m1s\u001b[0m 56ms/step - loss: 4.8446e-04 - val_loss: 0.0031\n",
      "Epoch 67/100\n",
      "\u001b[1m19/19\u001b[0m \u001b[32m━━━━━━━━━━━━━━━━━━━━\u001b[0m\u001b[37m\u001b[0m \u001b[1m1s\u001b[0m 64ms/step - loss: 4.4151e-04 - val_loss: 0.0024\n",
      "Epoch 68/100\n",
      "\u001b[1m19/19\u001b[0m \u001b[32m━━━━━━━━━━━━━━━━━━━━\u001b[0m\u001b[37m\u001b[0m \u001b[1m1s\u001b[0m 54ms/step - loss: 3.3194e-04 - val_loss: 7.8046e-04\n",
      "Epoch 69/100\n",
      "\u001b[1m19/19\u001b[0m \u001b[32m━━━━━━━━━━━━━━━━━━━━\u001b[0m\u001b[37m\u001b[0m \u001b[1m1s\u001b[0m 57ms/step - loss: 4.0181e-04 - val_loss: 0.0012\n",
      "Epoch 70/100\n",
      "\u001b[1m19/19\u001b[0m \u001b[32m━━━━━━━━━━━━━━━━━━━━\u001b[0m\u001b[37m\u001b[0m \u001b[1m2s\u001b[0m 82ms/step - loss: 3.1070e-04 - val_loss: 8.6494e-04\n",
      "Epoch 71/100\n",
      "\u001b[1m19/19\u001b[0m \u001b[32m━━━━━━━━━━━━━━━━━━━━\u001b[0m\u001b[37m\u001b[0m \u001b[1m1s\u001b[0m 41ms/step - loss: 3.0230e-04 - val_loss: 0.0015\n",
      "Epoch 72/100\n",
      "\u001b[1m19/19\u001b[0m \u001b[32m━━━━━━━━━━━━━━━━━━━━\u001b[0m\u001b[37m\u001b[0m \u001b[1m1s\u001b[0m 41ms/step - loss: 4.9720e-04 - val_loss: 0.0022\n",
      "Epoch 73/100\n",
      "\u001b[1m19/19\u001b[0m \u001b[32m━━━━━━━━━━━━━━━━━━━━\u001b[0m\u001b[37m\u001b[0m \u001b[1m1s\u001b[0m 50ms/step - loss: 3.4115e-04 - val_loss: 0.0015\n",
      "Epoch 74/100\n",
      "\u001b[1m19/19\u001b[0m \u001b[32m━━━━━━━━━━━━━━━━━━━━\u001b[0m\u001b[37m\u001b[0m \u001b[1m1s\u001b[0m 48ms/step - loss: 3.2535e-04 - val_loss: 0.0043\n",
      "Epoch 75/100\n",
      "\u001b[1m19/19\u001b[0m \u001b[32m━━━━━━━━━━━━━━━━━━━━\u001b[0m\u001b[37m\u001b[0m \u001b[1m1s\u001b[0m 49ms/step - loss: 4.8355e-04 - val_loss: 0.0019\n",
      "Epoch 76/100\n",
      "\u001b[1m19/19\u001b[0m \u001b[32m━━━━━━━━━━━━━━━━━━━━\u001b[0m\u001b[37m\u001b[0m \u001b[1m1s\u001b[0m 50ms/step - loss: 2.9291e-04 - val_loss: 0.0015\n",
      "Epoch 77/100\n",
      "\u001b[1m19/19\u001b[0m \u001b[32m━━━━━━━━━━━━━━━━━━━━\u001b[0m\u001b[37m\u001b[0m \u001b[1m1s\u001b[0m 55ms/step - loss: 3.0725e-04 - val_loss: 0.0017\n",
      "Epoch 78/100\n",
      "\u001b[1m19/19\u001b[0m \u001b[32m━━━━━━━━━━━━━━━━━━━━\u001b[0m\u001b[37m\u001b[0m \u001b[1m1s\u001b[0m 43ms/step - loss: 3.2112e-04 - val_loss: 0.0024\n",
      "Epoch 79/100\n",
      "\u001b[1m19/19\u001b[0m \u001b[32m━━━━━━━━━━━━━━━━━━━━\u001b[0m\u001b[37m\u001b[0m \u001b[1m1s\u001b[0m 44ms/step - loss: 3.2170e-04 - val_loss: 0.0036\n",
      "Epoch 80/100\n",
      "\u001b[1m19/19\u001b[0m \u001b[32m━━━━━━━━━━━━━━━━━━━━\u001b[0m\u001b[37m\u001b[0m \u001b[1m1s\u001b[0m 44ms/step - loss: 4.6913e-04 - val_loss: 0.0016\n",
      "Epoch 81/100\n",
      "\u001b[1m19/19\u001b[0m \u001b[32m━━━━━━━━━━━━━━━━━━━━\u001b[0m\u001b[37m\u001b[0m \u001b[1m1s\u001b[0m 62ms/step - loss: 2.8481e-04 - val_loss: 7.6160e-04\n",
      "Epoch 82/100\n",
      "\u001b[1m19/19\u001b[0m \u001b[32m━━━━━━━━━━━━━━━━━━━━\u001b[0m\u001b[37m\u001b[0m \u001b[1m1s\u001b[0m 56ms/step - loss: 2.9746e-04 - val_loss: 0.0012\n",
      "Epoch 83/100\n",
      "\u001b[1m19/19\u001b[0m \u001b[32m━━━━━━━━━━━━━━━━━━━━\u001b[0m\u001b[37m\u001b[0m \u001b[1m1s\u001b[0m 55ms/step - loss: 3.0211e-04 - val_loss: 0.0030\n",
      "Epoch 84/100\n",
      "\u001b[1m19/19\u001b[0m \u001b[32m━━━━━━━━━━━━━━━━━━━━\u001b[0m\u001b[37m\u001b[0m \u001b[1m3s\u001b[0m 67ms/step - loss: 3.2838e-04 - val_loss: 0.0021\n",
      "Epoch 85/100\n",
      "\u001b[1m19/19\u001b[0m \u001b[32m━━━━━━━━━━━━━━━━━━━━\u001b[0m\u001b[37m\u001b[0m \u001b[1m1s\u001b[0m 46ms/step - loss: 2.9849e-04 - val_loss: 0.0014\n",
      "Epoch 86/100\n",
      "\u001b[1m19/19\u001b[0m \u001b[32m━━━━━━━━━━━━━━━━━━━━\u001b[0m\u001b[37m\u001b[0m \u001b[1m1s\u001b[0m 50ms/step - loss: 4.4259e-04 - val_loss: 0.0041\n",
      "Epoch 87/100\n",
      "\u001b[1m19/19\u001b[0m \u001b[32m━━━━━━━━━━━━━━━━━━━━\u001b[0m\u001b[37m\u001b[0m \u001b[1m1s\u001b[0m 47ms/step - loss: 3.6794e-04 - val_loss: 7.2563e-04\n",
      "Epoch 88/100\n",
      "\u001b[1m19/19\u001b[0m \u001b[32m━━━━━━━━━━━━━━━━━━━━\u001b[0m\u001b[37m\u001b[0m \u001b[1m1s\u001b[0m 43ms/step - loss: 3.6932e-04 - val_loss: 0.0086\n",
      "Epoch 89/100\n",
      "\u001b[1m19/19\u001b[0m \u001b[32m━━━━━━━━━━━━━━━━━━━━\u001b[0m\u001b[37m\u001b[0m \u001b[1m1s\u001b[0m 54ms/step - loss: 0.0016 - val_loss: 7.6452e-04\n",
      "Epoch 90/100\n",
      "\u001b[1m19/19\u001b[0m \u001b[32m━━━━━━━━━━━━━━━━━━━━\u001b[0m\u001b[37m\u001b[0m \u001b[1m1s\u001b[0m 46ms/step - loss: 5.1420e-04 - val_loss: 8.4332e-04\n",
      "Epoch 91/100\n",
      "\u001b[1m19/19\u001b[0m \u001b[32m━━━━━━━━━━━━━━━━━━━━\u001b[0m\u001b[37m\u001b[0m \u001b[1m1s\u001b[0m 50ms/step - loss: 3.7290e-04 - val_loss: 9.1546e-04\n",
      "Epoch 92/100\n",
      "\u001b[1m19/19\u001b[0m \u001b[32m━━━━━━━━━━━━━━━━━━━━\u001b[0m\u001b[37m\u001b[0m \u001b[1m1s\u001b[0m 47ms/step - loss: 2.7099e-04 - val_loss: 0.0025\n",
      "Epoch 93/100\n",
      "\u001b[1m19/19\u001b[0m \u001b[32m━━━━━━━━━━━━━━━━━━━━\u001b[0m\u001b[37m\u001b[0m \u001b[1m1s\u001b[0m 52ms/step - loss: 2.5797e-04 - val_loss: 0.0018\n",
      "Epoch 94/100\n",
      "\u001b[1m19/19\u001b[0m \u001b[32m━━━━━━━━━━━━━━━━━━━━\u001b[0m\u001b[37m\u001b[0m \u001b[1m1s\u001b[0m 53ms/step - loss: 2.8245e-04 - val_loss: 0.0028\n",
      "Epoch 95/100\n",
      "\u001b[1m19/19\u001b[0m \u001b[32m━━━━━━━━━━━━━━━━━━━━\u001b[0m\u001b[37m\u001b[0m \u001b[1m1s\u001b[0m 56ms/step - loss: 4.4099e-04 - val_loss: 0.0060\n",
      "Epoch 96/100\n",
      "\u001b[1m19/19\u001b[0m \u001b[32m━━━━━━━━━━━━━━━━━━━━\u001b[0m\u001b[37m\u001b[0m \u001b[1m1s\u001b[0m 50ms/step - loss: 0.0013 - val_loss: 6.8577e-04\n",
      "Epoch 97/100\n",
      "\u001b[1m19/19\u001b[0m \u001b[32m━━━━━━━━━━━━━━━━━━━━\u001b[0m\u001b[37m\u001b[0m \u001b[1m1s\u001b[0m 55ms/step - loss: 4.2669e-04 - val_loss: 0.0049\n",
      "Epoch 98/100\n",
      "\u001b[1m19/19\u001b[0m \u001b[32m━━━━━━━━━━━━━━━━━━━━\u001b[0m\u001b[37m\u001b[0m \u001b[1m1s\u001b[0m 52ms/step - loss: 3.6722e-04 - val_loss: 0.0011\n",
      "Epoch 99/100\n",
      "\u001b[1m19/19\u001b[0m \u001b[32m━━━━━━━━━━━━━━━━━━━━\u001b[0m\u001b[37m\u001b[0m \u001b[1m1s\u001b[0m 52ms/step - loss: 2.4277e-04 - val_loss: 0.0015\n",
      "Epoch 100/100\n",
      "\u001b[1m19/19\u001b[0m \u001b[32m━━━━━━━━━━━━━━━━━━━━\u001b[0m\u001b[37m\u001b[0m \u001b[1m1s\u001b[0m 49ms/step - loss: 2.5559e-04 - val_loss: 0.0022\n"
     ]
    },
    {
     "data": {
      "text/plain": [
       "<keras.src.callbacks.history.History at 0x7f70f9eabeb0>"
      ]
     },
     "execution_count": 40,
     "metadata": {},
     "output_type": "execute_result"
    }
   ],
   "source": [
    "model.fit(X_train, y_train, validation_data=(X_test, y_test), epochs=100, batch_size=32, verbose=1)"
   ]
  },
  {
   "cell_type": "code",
   "execution_count": 41,
   "metadata": {},
   "outputs": [
    {
     "name": "stdout",
     "output_type": "stream",
     "text": [
      "\u001b[1m19/19\u001b[0m \u001b[32m━━━━━━━━━━━━━━━━━━━━\u001b[0m\u001b[37m\u001b[0m \u001b[1m3s\u001b[0m 175ms/step\n",
      "\u001b[1m9/9\u001b[0m \u001b[32m━━━━━━━━━━━━━━━━━━━━\u001b[0m\u001b[37m\u001b[0m \u001b[1m0s\u001b[0m 15ms/step\n"
     ]
    }
   ],
   "source": [
    "# model prediction\n",
    "\n",
    "train_predict = model.predict(X_train)\n",
    "test_predict = model.predict(X_test)"
   ]
  },
  {
   "cell_type": "code",
   "execution_count": 42,
   "metadata": {},
   "outputs": [],
   "source": [
    "train_predict = scaler.inverse_transform(train_predict)\n",
    "test_predict = scaler.inverse_transform(test_predict)"
   ]
  },
  {
   "cell_type": "code",
   "execution_count": 43,
   "metadata": {},
   "outputs": [
    {
     "data": {
      "text/plain": [
       "17.73896643835623"
      ]
     },
     "execution_count": 43,
     "metadata": {},
     "output_type": "execute_result"
    }
   ],
   "source": [
    "# RMSE performance metrics\n",
    "\n",
    "math.sqrt(mean_squared_error(y_train, train_predict))"
   ]
  },
  {
   "cell_type": "code",
   "execution_count": 44,
   "metadata": {},
   "outputs": [
    {
     "data": {
      "text/plain": [
       "33.90933774817218"
      ]
     },
     "execution_count": 44,
     "metadata": {},
     "output_type": "execute_result"
    }
   ],
   "source": [
    "math.sqrt(mean_squared_error(y_test, test_predict))"
   ]
  },
  {
   "cell_type": "code",
   "execution_count": 45,
   "metadata": {},
   "outputs": [
    {
     "data": {
      "image/png": "[encoded data removed]",
      "text/plain": [
       "<Figure size 640x480 with 1 Axes>"
      ]
     },
     "metadata": {},
     "output_type": "display_data"
    }
   ],
   "source": [
    "look_back = 75\n",
    "\n",
    "# Initialize arrays for plotting\n",
    "training_prediction_plot = np.empty_like(df1)\n",
    "training_prediction_plot[:, :] = np.nan\n",
    "training_prediction_plot[look_back:len(train_predict) + look_back, :] = train_predict\n",
    "\n",
    "test_predict_plot = np.empty_like(df1)\n",
    "test_predict_plot[:, :] = np.nan\n",
    "\n",
    "# Correct the slice indexing\n",
    "start_idx = len(train_predict) + (look_back * 2) + 1\n",
    "end_idx = start_idx + len(test_predict)\n",
    "test_predict_plot[start_idx:end_idx, :] = test_predict\n",
    "\n",
    "# Plot the results\n",
    "plt.plot(scaler.inverse_transform(df1), label=\"Actual Data\")\n",
    "plt.plot(training_prediction_plot, label=\"Training Predictions\")\n",
    "plt.plot(test_predict_plot, label=\"Test Predictions\")\n",
    "plt.legend()\n",
    "plt.show()\n"
   ]
  },
  {
   "cell_type": "code",
   "execution_count": 46,
   "metadata": {},
   "outputs": [
    {
     "data": {
      "text/plain": [
       "353"
      ]
     },
     "execution_count": 46,
     "metadata": {},
     "output_type": "execute_result"
    }
   ],
   "source": [
    "len(test_data)"
   ]
  },
  {
   "cell_type": "code",
   "execution_count": 59,
   "metadata": {},
   "outputs": [
    {
     "data": {
      "text/plain": [
       "(50, 1)"
      ]
     },
     "execution_count": 59,
     "metadata": {},
     "output_type": "execute_result"
    }
   ],
   "source": [
    "X_input = test_data[303:].reshape(-1,1)\n",
    "X_input.shape"
   ]
  },
  {
   "cell_type": "code",
   "execution_count": 50,
   "metadata": {},
   "outputs": [
    {
     "data": {
      "text/plain": [
       "[array([0.81746578]),\n",
       " array([0.8017785]),\n",
       " array([0.83666827]),\n",
       " array([0.85178416]),\n",
       " array([0.81039098]),\n",
       " array([0.77846743]),\n",
       " array([0.78229035]),\n",
       " array([0.79681313]),\n",
       " array([0.78844211]),\n",
       " array([0.8223873]),\n",
       " array([0.84833484]),\n",
       " array([0.88126921]),\n",
       " array([0.89765943]),\n",
       " array([0.90214162]),\n",
       " array([0.91574153]),\n",
       " array([0.92400254]),\n",
       " array([0.95443218]),\n",
       " array([0.96069394]),\n",
       " array([0.98345576]),\n",
       " array([0.96658227]),\n",
       " array([0.97958898]),\n",
       " array([0.97559032]),\n",
       " array([1.]),\n",
       " array([0.98978342]),\n",
       " array([0.96280319]),\n",
       " array([0.94215062]),\n",
       " array([0.95238891]),\n",
       " array([0.94313922]),\n",
       " array([0.95014803]),\n",
       " array([0.92004773]),\n",
       " array([0.91993789]),\n",
       " array([0.89236438]),\n",
       " array([0.91565576]),\n",
       " array([0.89229857]),\n",
       " array([0.91631485]),\n",
       " array([0.93631017]),\n",
       " array([0.91699608]),\n",
       " array([0.93962802]),\n",
       " array([0.94909839]),\n",
       " array([0.95485525]),\n",
       " array([0.96672061]),\n",
       " array([0.99280229]),\n",
       " array([0.98240914]),\n",
       " array([0.94960363]),\n",
       " array([0.96891789]),\n",
       " array([0.96540225]),\n",
       " array([0.97526794]),\n",
       " array([0.97830014]),\n",
       " array([0.98060743]),\n",
       " array([0.98060743])]"
      ]
     },
     "execution_count": 50,
     "metadata": {},
     "output_type": "execute_result"
    }
   ],
   "source": [
    "temp_input = list(X_input)\n",
    "temp_input"
   ]
  },
  {
   "cell_type": "code",
   "execution_count": 57,
   "metadata": {},
   "outputs": [
    {
     "name": "stdout",
     "output_type": "stream",
     "text": [
      "[0.8174657780141884, 0.8017785018218185, 0.8366682744695232, 0.8517841575861859, 0.8103909843060059, 0.7784674250452966, 0.7822903507503522, 0.7968131253391271, 0.788442111975708, 0.8223873043752956, 0.8483348382707637, 0.8812692141009121, 0.8976594337337412, 0.9021416204445617, 0.9157415302373996, 0.9240025410013571, 0.954432177764201, 0.960693941589018, 0.9834557599592363, 0.9665822667110912, 0.9795889841325968, 0.9755903225674264, 1.0000000000000002, 0.9897834247315965, 0.9628031911276197, 0.9421506222960031, 0.9523889130165869, 0.9431392203525938, 0.9501480292697883, 0.9200477295577708, 0.9199378946451989, 0.8923643848264452, 0.9156557583934598, 0.8922985677223468, 0.9163148517123353, 0.9363101717808601, 0.9169960797006144, 0.9396280245749747, 0.9490983931854481, 0.9548552517862138, 0.9667206083948648, 0.9928022918018707, 0.9824091422389053, 0.9496036337832782, 0.9689178935504134, 0.9654022540702246, 0.9752679445225115, 0.9783001427004948, 0.9806074304555047, 0.9806074304555047]\n"
     ]
    }
   ],
   "source": [
    "temp_input = [float(value) for array in temp_input for value in array]\n",
    "\n",
    "print(temp_input)  \n"
   ]
  },
  {
   "cell_type": "code",
   "execution_count": 52,
   "metadata": {},
   "outputs": [
    {
     "data": {
      "text/plain": [
       "50"
      ]
     },
     "execution_count": 52,
     "metadata": {},
     "output_type": "execute_result"
    }
   ],
   "source": [
    "len(temp_input)"
   ]
  },
  {
   "cell_type": "code",
   "execution_count": 60,
   "metadata": {},
   "outputs": [
    {
     "name": "stdout",
     "output_type": "stream",
     "text": [
      "0 day input [0.81746578 0.8017785  0.83666827 0.85178416 0.81039098 0.77846743\n",
      " 0.78229035 0.79681313 0.78844211 0.8223873  0.84833484 0.88126921\n",
      " 0.89765943 0.90214162 0.91574153 0.92400254 0.95443218 0.96069394\n",
      " 0.98345576 0.96658227 0.97958898 0.97559032 1.         0.98978342\n",
      " 0.96280319 0.94215062 0.95238891 0.94313922 0.95014803 0.92004773\n",
      " 0.91993789 0.89236438 0.91565576 0.89229857 0.91631485 0.93631017\n",
      " 0.91699608 0.93962802 0.94909839 0.95485525 0.96672061 0.99280229\n",
      " 0.98240914 0.94960363 0.96891789 0.96540225 0.97526794 0.97830014\n",
      " 0.98060743 0.98060743]\n",
      "0 day output [[0.9118765]]\n",
      "1 day input [0.8017785  0.83666827 0.85178416 0.81039098 0.77846743 0.78229035\n",
      " 0.79681313 0.78844211 0.8223873  0.84833484 0.88126921 0.89765943\n",
      " 0.90214162 0.91574153 0.92400254 0.95443218 0.96069394 0.98345576\n",
      " 0.96658227 0.97958898 0.97559032 1.         0.98978342 0.96280319\n",
      " 0.94215062 0.95238891 0.94313922 0.95014803 0.92004773 0.91993789\n",
      " 0.89236438 0.91565576 0.89229857 0.91631485 0.93631017 0.91699608\n",
      " 0.93962802 0.94909839 0.95485525 0.96672061 0.99280229 0.98240914\n",
      " 0.94960363 0.96891789 0.96540225 0.97526794 0.97830014 0.98060743\n",
      " 0.98060743 0.9118765 ]\n",
      "1 day output [[0.84745127]]\n",
      "2 day input [0.83666827 0.85178416 0.81039098 0.77846743 0.78229035 0.79681313\n",
      " 0.78844211 0.8223873  0.84833484 0.88126921 0.89765943 0.90214162\n",
      " 0.91574153 0.92400254 0.95443218 0.96069394 0.98345576 0.96658227\n",
      " 0.97958898 0.97559032 1.         0.98978342 0.96280319 0.94215062\n",
      " 0.95238891 0.94313922 0.95014803 0.92004773 0.91993789 0.89236438\n",
      " 0.91565576 0.89229857 0.91631485 0.93631017 0.91699608 0.93962802\n",
      " 0.94909839 0.95485525 0.96672061 0.99280229 0.98240914 0.94960363\n",
      " 0.96891789 0.96540225 0.97526794 0.97830014 0.98060743 0.98060743\n",
      " 0.9118765  0.84745127]\n",
      "2 day output [[0.77837354]]\n",
      "3 day input [0.85178416 0.81039098 0.77846743 0.78229035 0.79681313 0.78844211\n",
      " 0.8223873  0.84833484 0.88126921 0.89765943 0.90214162 0.91574153\n",
      " 0.92400254 0.95443218 0.96069394 0.98345576 0.96658227 0.97958898\n",
      " 0.97559032 1.         0.98978342 0.96280319 0.94215062 0.95238891\n",
      " 0.94313922 0.95014803 0.92004773 0.91993789 0.89236438 0.91565576\n",
      " 0.89229857 0.91631485 0.93631017 0.91699608 0.93962802 0.94909839\n",
      " 0.95485525 0.96672061 0.99280229 0.98240914 0.94960363 0.96891789\n",
      " 0.96540225 0.97526794 0.97830014 0.98060743 0.98060743 0.9118765\n",
      " 0.84745127 0.77837354]\n",
      "3 day output [[0.70909077]]\n",
      "4 day input [0.81039098 0.77846743 0.78229035 0.79681313 0.78844211 0.8223873\n",
      " 0.84833484 0.88126921 0.89765943 0.90214162 0.91574153 0.92400254\n",
      " 0.95443218 0.96069394 0.98345576 0.96658227 0.97958898 0.97559032\n",
      " 1.         0.98978342 0.96280319 0.94215062 0.95238891 0.94313922\n",
      " 0.95014803 0.92004773 0.91993789 0.89236438 0.91565576 0.89229857\n",
      " 0.91631485 0.93631017 0.91699608 0.93962802 0.94909839 0.95485525\n",
      " 0.96672061 0.99280229 0.98240914 0.94960363 0.96891789 0.96540225\n",
      " 0.97526794 0.97830014 0.98060743 0.98060743 0.9118765  0.84745127\n",
      " 0.77837354 0.70909077]\n",
      "4 day output [[0.641877]]\n",
      "5 day input [0.77846743 0.78229035 0.79681313 0.78844211 0.8223873  0.84833484\n",
      " 0.88126921 0.89765943 0.90214162 0.91574153 0.92400254 0.95443218\n",
      " 0.96069394 0.98345576 0.96658227 0.97958898 0.97559032 1.\n",
      " 0.98978342 0.96280319 0.94215062 0.95238891 0.94313922 0.95014803\n",
      " 0.92004773 0.91993789 0.89236438 0.91565576 0.89229857 0.91631485\n",
      " 0.93631017 0.91699608 0.93962802 0.94909839 0.95485525 0.96672061\n",
      " 0.99280229 0.98240914 0.94960363 0.96891789 0.96540225 0.97526794\n",
      " 0.97830014 0.98060743 0.98060743 0.9118765  0.84745127 0.77837354\n",
      " 0.70909077 0.641877  ]\n",
      "5 day output [[0.5788891]]\n",
      "6 day input [0.78229035 0.79681313 0.78844211 0.8223873  0.84833484 0.88126921\n",
      " 0.89765943 0.90214162 0.91574153 0.92400254 0.95443218 0.96069394\n",
      " 0.98345576 0.96658227 0.97958898 0.97559032 1.         0.98978342\n",
      " 0.96280319 0.94215062 0.95238891 0.94313922 0.95014803 0.92004773\n",
      " 0.91993789 0.89236438 0.91565576 0.89229857 0.91631485 0.93631017\n",
      " 0.91699608 0.93962802 0.94909839 0.95485525 0.96672061 0.99280229\n",
      " 0.98240914 0.94960363 0.96891789 0.96540225 0.97526794 0.97830014\n",
      " 0.98060743 0.98060743 0.9118765  0.84745127 0.77837354 0.70909077\n",
      " 0.641877   0.57888907]\n",
      "6 day output [[0.52190924]]\n",
      "7 day input [0.79681313 0.78844211 0.8223873  0.84833484 0.88126921 0.89765943\n",
      " 0.90214162 0.91574153 0.92400254 0.95443218 0.96069394 0.98345576\n",
      " 0.96658227 0.97958898 0.97559032 1.         0.98978342 0.96280319\n",
      " 0.94215062 0.95238891 0.94313922 0.95014803 0.92004773 0.91993789\n",
      " 0.89236438 0.91565576 0.89229857 0.91631485 0.93631017 0.91699608\n",
      " 0.93962802 0.94909839 0.95485525 0.96672061 0.99280229 0.98240914\n",
      " 0.94960363 0.96891789 0.96540225 0.97526794 0.97830014 0.98060743\n",
      " 0.98060743 0.9118765  0.84745127 0.77837354 0.70909077 0.641877\n",
      " 0.57888907 0.52190924]\n",
      "7 day output [[0.47226188]]\n",
      "8 day input [0.78844211 0.8223873  0.84833484 0.88126921 0.89765943 0.90214162\n",
      " 0.91574153 0.92400254 0.95443218 0.96069394 0.98345576 0.96658227\n",
      " 0.97958898 0.97559032 1.         0.98978342 0.96280319 0.94215062\n",
      " 0.95238891 0.94313922 0.95014803 0.92004773 0.91993789 0.89236438\n",
      " 0.91565576 0.89229857 0.91631485 0.93631017 0.91699608 0.93962802\n",
      " 0.94909839 0.95485525 0.96672061 0.99280229 0.98240914 0.94960363\n",
      " 0.96891789 0.96540225 0.97526794 0.97830014 0.98060743 0.98060743\n",
      " 0.9118765  0.84745127 0.77837354 0.70909077 0.641877   0.57888907\n",
      " 0.52190924 0.47226188]\n",
      "8 day output [[0.4306723]]\n",
      "9 day input [0.8223873  0.84833484 0.88126921 0.89765943 0.90214162 0.91574153\n",
      " 0.92400254 0.95443218 0.96069394 0.98345576 0.96658227 0.97958898\n",
      " 0.97559032 1.         0.98978342 0.96280319 0.94215062 0.95238891\n",
      " 0.94313922 0.95014803 0.92004773 0.91993789 0.89236438 0.91565576\n",
      " 0.89229857 0.91631485 0.93631017 0.91699608 0.93962802 0.94909839\n",
      " 0.95485525 0.96672061 0.99280229 0.98240914 0.94960363 0.96891789\n",
      " 0.96540225 0.97526794 0.97830014 0.98060743 0.98060743 0.9118765\n",
      " 0.84745127 0.77837354 0.70909077 0.641877   0.57888907 0.52190924\n",
      " 0.47226188 0.43067229]\n",
      "9 day output [[0.39717665]]\n",
      "10 day input [0.84833484 0.88126921 0.89765943 0.90214162 0.91574153 0.92400254\n",
      " 0.95443218 0.96069394 0.98345576 0.96658227 0.97958898 0.97559032\n",
      " 1.         0.98978342 0.96280319 0.94215062 0.95238891 0.94313922\n",
      " 0.95014803 0.92004773 0.91993789 0.89236438 0.91565576 0.89229857\n",
      " 0.91631485 0.93631017 0.91699608 0.93962802 0.94909839 0.95485525\n",
      " 0.96672061 0.99280229 0.98240914 0.94960363 0.96891789 0.96540225\n",
      " 0.97526794 0.97830014 0.98060743 0.98060743 0.9118765  0.84745127\n",
      " 0.77837354 0.70909077 0.641877   0.57888907 0.52190924 0.47226188\n",
      " 0.43067229 0.39717665]\n",
      "10 day output [[0.3711878]]\n",
      "11 day input [0.88126921 0.89765943 0.90214162 0.91574153 0.92400254 0.95443218\n",
      " 0.96069394 0.98345576 0.96658227 0.97958898 0.97559032 1.\n",
      " 0.98978342 0.96280319 0.94215062 0.95238891 0.94313922 0.95014803\n",
      " 0.92004773 0.91993789 0.89236438 0.91565576 0.89229857 0.91631485\n",
      " 0.93631017 0.91699608 0.93962802 0.94909839 0.95485525 0.96672061\n",
      " 0.99280229 0.98240914 0.94960363 0.96891789 0.96540225 0.97526794\n",
      " 0.97830014 0.98060743 0.98060743 0.9118765  0.84745127 0.77837354\n",
      " 0.70909077 0.641877   0.57888907 0.52190924 0.47226188 0.43067229\n",
      " 0.39717665 0.37118781]\n",
      "11 day output [[0.35171023]]\n",
      "12 day input [0.89765943 0.90214162 0.91574153 0.92400254 0.95443218 0.96069394\n",
      " 0.98345576 0.96658227 0.97958898 0.97559032 1.         0.98978342\n",
      " 0.96280319 0.94215062 0.95238891 0.94313922 0.95014803 0.92004773\n",
      " 0.91993789 0.89236438 0.91565576 0.89229857 0.91631485 0.93631017\n",
      " 0.91699608 0.93962802 0.94909839 0.95485525 0.96672061 0.99280229\n",
      " 0.98240914 0.94960363 0.96891789 0.96540225 0.97526794 0.97830014\n",
      " 0.98060743 0.98060743 0.9118765  0.84745127 0.77837354 0.70909077\n",
      " 0.641877   0.57888907 0.52190924 0.47226188 0.43067229 0.39717665\n",
      " 0.37118781 0.35171023]\n",
      "12 day output [[0.3375961]]\n",
      "13 day input [0.90214162 0.91574153 0.92400254 0.95443218 0.96069394 0.98345576\n",
      " 0.96658227 0.97958898 0.97559032 1.         0.98978342 0.96280319\n",
      " 0.94215062 0.95238891 0.94313922 0.95014803 0.92004773 0.91993789\n",
      " 0.89236438 0.91565576 0.89229857 0.91631485 0.93631017 0.91699608\n",
      " 0.93962802 0.94909839 0.95485525 0.96672061 0.99280229 0.98240914\n",
      " 0.94960363 0.96891789 0.96540225 0.97526794 0.97830014 0.98060743\n",
      " 0.98060743 0.9118765  0.84745127 0.77837354 0.70909077 0.641877\n",
      " 0.57888907 0.52190924 0.47226188 0.43067229 0.39717665 0.37118781\n",
      " 0.35171023 0.33759609]\n",
      "13 day output [[0.32774028]]\n",
      "14 day input [0.91574153 0.92400254 0.95443218 0.96069394 0.98345576 0.96658227\n",
      " 0.97958898 0.97559032 1.         0.98978342 0.96280319 0.94215062\n",
      " 0.95238891 0.94313922 0.95014803 0.92004773 0.91993789 0.89236438\n",
      " 0.91565576 0.89229857 0.91631485 0.93631017 0.91699608 0.93962802\n",
      " 0.94909839 0.95485525 0.96672061 0.99280229 0.98240914 0.94960363\n",
      " 0.96891789 0.96540225 0.97526794 0.97830014 0.98060743 0.98060743\n",
      " 0.9118765  0.84745127 0.77837354 0.70909077 0.641877   0.57888907\n",
      " 0.52190924 0.47226188 0.43067229 0.39717665 0.37118781 0.35171023\n",
      " 0.33759609 0.32774028]\n",
      "14 day output [[0.3211793]]\n",
      "15 day input [0.92400254 0.95443218 0.96069394 0.98345576 0.96658227 0.97958898\n",
      " 0.97559032 1.         0.98978342 0.96280319 0.94215062 0.95238891\n",
      " 0.94313922 0.95014803 0.92004773 0.91993789 0.89236438 0.91565576\n",
      " 0.89229857 0.91631485 0.93631017 0.91699608 0.93962802 0.94909839\n",
      " 0.95485525 0.96672061 0.99280229 0.98240914 0.94960363 0.96891789\n",
      " 0.96540225 0.97526794 0.97830014 0.98060743 0.98060743 0.9118765\n",
      " 0.84745127 0.77837354 0.70909077 0.641877   0.57888907 0.52190924\n",
      " 0.47226188 0.43067229 0.39717665 0.37118781 0.35171023 0.33759609\n",
      " 0.32774028 0.3211793 ]\n",
      "15 day output [[0.3171151]]\n",
      "16 day input [0.95443218 0.96069394 0.98345576 0.96658227 0.97958898 0.97559032\n",
      " 1.         0.98978342 0.96280319 0.94215062 0.95238891 0.94313922\n",
      " 0.95014803 0.92004773 0.91993789 0.89236438 0.91565576 0.89229857\n",
      " 0.91631485 0.93631017 0.91699608 0.93962802 0.94909839 0.95485525\n",
      " 0.96672061 0.99280229 0.98240914 0.94960363 0.96891789 0.96540225\n",
      " 0.97526794 0.97830014 0.98060743 0.98060743 0.9118765  0.84745127\n",
      " 0.77837354 0.70909077 0.641877   0.57888907 0.52190924 0.47226188\n",
      " 0.43067229 0.39717665 0.37118781 0.35171023 0.33759609 0.32774028\n",
      " 0.3211793  0.3171151 ]\n",
      "16 day output [[0.31490114]]\n",
      "17 day input [0.96069394 0.98345576 0.96658227 0.97958898 0.97559032 1.\n",
      " 0.98978342 0.96280319 0.94215062 0.95238891 0.94313922 0.95014803\n",
      " 0.92004773 0.91993789 0.89236438 0.91565576 0.89229857 0.91631485\n",
      " 0.93631017 0.91699608 0.93962802 0.94909839 0.95485525 0.96672061\n",
      " 0.99280229 0.98240914 0.94960363 0.96891789 0.96540225 0.97526794\n",
      " 0.97830014 0.98060743 0.98060743 0.9118765  0.84745127 0.77837354\n",
      " 0.70909077 0.641877   0.57888907 0.52190924 0.47226188 0.43067229\n",
      " 0.39717665 0.37118781 0.35171023 0.33759609 0.32774028 0.3211793\n",
      " 0.3171151  0.31490114]\n",
      "17 day output [[0.31401533]]\n",
      "18 day input [0.98345576 0.96658227 0.97958898 0.97559032 1.         0.98978342\n",
      " 0.96280319 0.94215062 0.95238891 0.94313922 0.95014803 0.92004773\n",
      " 0.91993789 0.89236438 0.91565576 0.89229857 0.91631485 0.93631017\n",
      " 0.91699608 0.93962802 0.94909839 0.95485525 0.96672061 0.99280229\n",
      " 0.98240914 0.94960363 0.96891789 0.96540225 0.97526794 0.97830014\n",
      " 0.98060743 0.98060743 0.9118765  0.84745127 0.77837354 0.70909077\n",
      " 0.641877   0.57888907 0.52190924 0.47226188 0.43067229 0.39717665\n",
      " 0.37118781 0.35171023 0.33759609 0.32774028 0.3211793  0.3171151\n",
      " 0.31490114 0.31401533]\n",
      "18 day output [[0.3140349]]\n",
      "19 day input [0.96658227 0.97958898 0.97559032 1.         0.98978342 0.96280319\n",
      " 0.94215062 0.95238891 0.94313922 0.95014803 0.92004773 0.91993789\n",
      " 0.89236438 0.91565576 0.89229857 0.91631485 0.93631017 0.91699608\n",
      " 0.93962802 0.94909839 0.95485525 0.96672061 0.99280229 0.98240914\n",
      " 0.94960363 0.96891789 0.96540225 0.97526794 0.97830014 0.98060743\n",
      " 0.98060743 0.9118765  0.84745127 0.77837354 0.70909077 0.641877\n",
      " 0.57888907 0.52190924 0.47226188 0.43067229 0.39717665 0.37118781\n",
      " 0.35171023 0.33759609 0.32774028 0.3211793  0.3171151  0.31490114\n",
      " 0.31401533 0.31403491]\n",
      "19 day output [[0.31461635]]\n",
      "20 day input [0.97958898 0.97559032 1.         0.98978342 0.96280319 0.94215062\n",
      " 0.95238891 0.94313922 0.95014803 0.92004773 0.91993789 0.89236438\n",
      " 0.91565576 0.89229857 0.91631485 0.93631017 0.91699608 0.93962802\n",
      " 0.94909839 0.95485525 0.96672061 0.99280229 0.98240914 0.94960363\n",
      " 0.96891789 0.96540225 0.97526794 0.97830014 0.98060743 0.98060743\n",
      " 0.9118765  0.84745127 0.77837354 0.70909077 0.641877   0.57888907\n",
      " 0.52190924 0.47226188 0.43067229 0.39717665 0.37118781 0.35171023\n",
      " 0.33759609 0.32774028 0.3211793  0.3171151  0.31490114 0.31401533\n",
      " 0.31403491 0.31461635]\n",
      "20 day output [[0.31548086]]\n",
      "21 day input [0.97559032 1.         0.98978342 0.96280319 0.94215062 0.95238891\n",
      " 0.94313922 0.95014803 0.92004773 0.91993789 0.89236438 0.91565576\n",
      " 0.89229857 0.91631485 0.93631017 0.91699608 0.93962802 0.94909839\n",
      " 0.95485525 0.96672061 0.99280229 0.98240914 0.94960363 0.96891789\n",
      " 0.96540225 0.97526794 0.97830014 0.98060743 0.98060743 0.9118765\n",
      " 0.84745127 0.77837354 0.70909077 0.641877   0.57888907 0.52190924\n",
      " 0.47226188 0.43067229 0.39717665 0.37118781 0.35171023 0.33759609\n",
      " 0.32774028 0.3211793  0.3171151  0.31490114 0.31401533 0.31403491\n",
      " 0.31461635 0.31548086]\n",
      "21 day output [[0.31640437]]\n",
      "22 day input [1.         0.98978342 0.96280319 0.94215062 0.95238891 0.94313922\n",
      " 0.95014803 0.92004773 0.91993789 0.89236438 0.91565576 0.89229857\n",
      " 0.91631485 0.93631017 0.91699608 0.93962802 0.94909839 0.95485525\n",
      " 0.96672061 0.99280229 0.98240914 0.94960363 0.96891789 0.96540225\n",
      " 0.97526794 0.97830014 0.98060743 0.98060743 0.9118765  0.84745127\n",
      " 0.77837354 0.70909077 0.641877   0.57888907 0.52190924 0.47226188\n",
      " 0.43067229 0.39717665 0.37118781 0.35171023 0.33759609 0.32774028\n",
      " 0.3211793  0.3171151  0.31490114 0.31401533 0.31403491 0.31461635\n",
      " 0.31548086 0.31640437]\n",
      "22 day output [[0.31721076]]\n",
      "23 day input [0.98978342 0.96280319 0.94215062 0.95238891 0.94313922 0.95014803\n",
      " 0.92004773 0.91993789 0.89236438 0.91565576 0.89229857 0.91631485\n",
      " 0.93631017 0.91699608 0.93962802 0.94909839 0.95485525 0.96672061\n",
      " 0.99280229 0.98240914 0.94960363 0.96891789 0.96540225 0.97526794\n",
      " 0.97830014 0.98060743 0.98060743 0.9118765  0.84745127 0.77837354\n",
      " 0.70909077 0.641877   0.57888907 0.52190924 0.47226188 0.43067229\n",
      " 0.39717665 0.37118781 0.35171023 0.33759609 0.32774028 0.3211793\n",
      " 0.3171151  0.31490114 0.31401533 0.31403491 0.31461635 0.31548086\n",
      " 0.31640437 0.31721076]\n",
      "23 day output [[0.31776613]]\n",
      "24 day input [0.96280319 0.94215062 0.95238891 0.94313922 0.95014803 0.92004773\n",
      " 0.91993789 0.89236438 0.91565576 0.89229857 0.91631485 0.93631017\n",
      " 0.91699608 0.93962802 0.94909839 0.95485525 0.96672061 0.99280229\n",
      " 0.98240914 0.94960363 0.96891789 0.96540225 0.97526794 0.97830014\n",
      " 0.98060743 0.98060743 0.9118765  0.84745127 0.77837354 0.70909077\n",
      " 0.641877   0.57888907 0.52190924 0.47226188 0.43067229 0.39717665\n",
      " 0.37118781 0.35171023 0.33759609 0.32774028 0.3211793  0.3171151\n",
      " 0.31490114 0.31401533 0.31403491 0.31461635 0.31548086 0.31640437\n",
      " 0.31721076 0.31776613]\n",
      "24 day output [[0.31797484]]\n",
      "25 day input [0.94215062 0.95238891 0.94313922 0.95014803 0.92004773 0.91993789\n",
      " 0.89236438 0.91565576 0.89229857 0.91631485 0.93631017 0.91699608\n",
      " 0.93962802 0.94909839 0.95485525 0.96672061 0.99280229 0.98240914\n",
      " 0.94960363 0.96891789 0.96540225 0.97526794 0.97830014 0.98060743\n",
      " 0.98060743 0.9118765  0.84745127 0.77837354 0.70909077 0.641877\n",
      " 0.57888907 0.52190924 0.47226188 0.43067229 0.39717665 0.37118781\n",
      " 0.35171023 0.33759609 0.32774028 0.3211793  0.3171151  0.31490114\n",
      " 0.31401533 0.31403491 0.31461635 0.31548086 0.31640437 0.31721076\n",
      " 0.31776613 0.31797484]\n",
      "25 day output [[0.31777492]]\n",
      "26 day input [0.95238891 0.94313922 0.95014803 0.92004773 0.91993789 0.89236438\n",
      " 0.91565576 0.89229857 0.91631485 0.93631017 0.91699608 0.93962802\n",
      " 0.94909839 0.95485525 0.96672061 0.99280229 0.98240914 0.94960363\n",
      " 0.96891789 0.96540225 0.97526794 0.97830014 0.98060743 0.98060743\n",
      " 0.9118765  0.84745127 0.77837354 0.70909077 0.641877   0.57888907\n",
      " 0.52190924 0.47226188 0.43067229 0.39717665 0.37118781 0.35171023\n",
      " 0.33759609 0.32774028 0.3211793  0.3171151  0.31490114 0.31401533\n",
      " 0.31403491 0.31461635 0.31548086 0.31640437 0.31721076 0.31776613\n",
      " 0.31797484 0.31777492]\n",
      "26 day output [[0.31713375]]\n",
      "27 day input [0.94313922 0.95014803 0.92004773 0.91993789 0.89236438 0.91565576\n",
      " 0.89229857 0.91631485 0.93631017 0.91699608 0.93962802 0.94909839\n",
      " 0.95485525 0.96672061 0.99280229 0.98240914 0.94960363 0.96891789\n",
      " 0.96540225 0.97526794 0.97830014 0.98060743 0.98060743 0.9118765\n",
      " 0.84745127 0.77837354 0.70909077 0.641877   0.57888907 0.52190924\n",
      " 0.47226188 0.43067229 0.39717665 0.37118781 0.35171023 0.33759609\n",
      " 0.32774028 0.3211793  0.3171151  0.31490114 0.31401533 0.31403491\n",
      " 0.31461635 0.31548086 0.31640437 0.31721076 0.31776613 0.31797484\n",
      " 0.31777492 0.31713375]\n",
      "27 day output [[0.31604388]]\n",
      "28 day input [0.95014803 0.92004773 0.91993789 0.89236438 0.91565576 0.89229857\n",
      " 0.91631485 0.93631017 0.91699608 0.93962802 0.94909839 0.95485525\n",
      " 0.96672061 0.99280229 0.98240914 0.94960363 0.96891789 0.96540225\n",
      " 0.97526794 0.97830014 0.98060743 0.98060743 0.9118765  0.84745127\n",
      " 0.77837354 0.70909077 0.641877   0.57888907 0.52190924 0.47226188\n",
      " 0.43067229 0.39717665 0.37118781 0.35171023 0.33759609 0.32774028\n",
      " 0.3211793  0.3171151  0.31490114 0.31401533 0.31403491 0.31461635\n",
      " 0.31548086 0.31640437 0.31721076 0.31776613 0.31797484 0.31777492\n",
      " 0.31713375 0.31604388]\n",
      "28 day output [[0.31451884]]\n",
      "29 day input [0.92004773 0.91993789 0.89236438 0.91565576 0.89229857 0.91631485\n",
      " 0.93631017 0.91699608 0.93962802 0.94909839 0.95485525 0.96672061\n",
      " 0.99280229 0.98240914 0.94960363 0.96891789 0.96540225 0.97526794\n",
      " 0.97830014 0.98060743 0.98060743 0.9118765  0.84745127 0.77837354\n",
      " 0.70909077 0.641877   0.57888907 0.52190924 0.47226188 0.43067229\n",
      " 0.39717665 0.37118781 0.35171023 0.33759609 0.32774028 0.3211793\n",
      " 0.3171151  0.31490114 0.31401533 0.31403491 0.31461635 0.31548086\n",
      " 0.31640437 0.31721076 0.31776613 0.31797484 0.31777492 0.31713375\n",
      " 0.31604388 0.31451884]\n",
      "29 day output [[0.31258813]]\n",
      "[[0.9118764996528625], [0.8474512696266174], [0.7783735394477844], [0.7090907692909241], [0.6418769955635071], [0.5788890719413757], [0.521909236907959], [0.47226187586784363], [0.430672287940979], [0.3971766531467438], [0.37118780612945557], [0.3517102301120758], [0.3375960886478424], [0.32774028182029724], [0.3211793005466461], [0.31711509823799133], [0.3149011433124542], [0.31401532888412476], [0.31403490900993347], [0.3146163523197174], [0.3154808580875397], [0.3164043724536896], [0.31721076369285583], [0.31776612997055054], [0.31797483563423157], [0.3177749216556549], [0.31713375449180603], [0.316043883562088], [0.31451883912086487], [0.3125881254673004]]\n"
     ]
    }
   ],
   "source": [
    "from numpy import array\n",
    "\n",
    "list_output = []\n",
    "n_steps = 50\n",
    "i = 0\n",
    "\n",
    "while i < 30:\n",
    "    if len(temp_input) > n_steps:\n",
    "        X_input = np.array(temp_input[-n_steps:]) \n",
    "    else:\n",
    "        X_input = np.array(temp_input)  \n",
    "        X_input = np.pad(X_input, (n_steps - len(X_input), 0), 'constant', constant_values=0)\n",
    "    \n",
    "    print(f\"{i} day input {X_input}\")\n",
    "    X_input = X_input.reshape((1, n_steps, 1))  \n",
    "\n",
    "    y_hat = model.predict(X_input, verbose=0)\n",
    "    print(f\"{i} day output {y_hat}\")\n",
    "\n",
    "    temp_input.extend(y_hat[0].tolist()) \n",
    "    temp_input = temp_input[-n_steps:] \n",
    "    list_output.extend(y_hat.tolist())  \n",
    "    \n",
    "    i += 1\n",
    "\n",
    "print(list_output)\n"
   ]
  },
  {
   "cell_type": "code",
   "execution_count": 71,
   "metadata": {},
   "outputs": [],
   "source": [
    "day_new = np.arange(1, len(df1[986:]) + 1)\n",
    "day_pred = np.arange(51, 76)\n"
   ]
  },
  {
   "cell_type": "code",
   "execution_count": 72,
   "metadata": {},
   "outputs": [
    {
     "data": {
      "text/plain": [
       "array([ 1,  2,  3,  4,  5,  6,  7,  8,  9, 10, 11, 12, 13, 14, 15, 16, 17,\n",
       "       18, 19, 20])"
      ]
     },
     "execution_count": 72,
     "metadata": {},
     "output_type": "execute_result"
    }
   ],
   "source": [
    "day_new"
   ]
  },
  {
   "cell_type": "code",
   "execution_count": 64,
   "metadata": {},
   "outputs": [],
   "source": [
    "df3 = df1.tolist()\n",
    "df3.extend(list_output)"
   ]
  },
  {
   "cell_type": "code",
   "execution_count": 75,
   "metadata": {},
   "outputs": [],
   "source": [
    "df1_inverse = scaler.inverse_transform(df1[986:]).flatten()  # Flatten the actual data\n",
    "list_output_inverse = scaler.inverse_transform(np.array(list_output)).flatten()  # Flatten predictions\n",
    "\n",
    "day_new = np.arange(1, len(df1_inverse) + 1)  # Actual data timeframe\n",
    "day_pred = np.arange(len(df1_inverse) + 1, len(df1_inverse) + len(list_output) + 1)  # Predictions timeframe\n",
    "\n",
    "# plt.figure(figsize=(10, 6))\n",
    "# plt.plot(day_new, df1_inverse, label=\"Actual Data\", color=\"blue\")\n",
    "# plt.plot(day_pred, list_output_inverse, label=\"Predictions\", color=\"orange\")\n",
    "# plt.xlabel(\"Days\")\n",
    "# plt.ylabel(\"Values\")\n",
    "# plt.title(\"Actual Data vs Predictions\")\n",
    "# plt.legend()\n",
    "# plt.grid(True)\n",
    "# plt.show()\n"
   ]
  },
  {
   "cell_type": "markdown",
   "metadata": {},
   "source": []
  },
  {
   "cell_type": "code",
   "execution_count": null,
   "metadata": {},
   "outputs": [],
   "source": []
  }
 ],
 "metadata": {
  "kernelspec": {
   "display_name": "tf",
   "language": "python",
   "name": "python3"
  },
  "language_info": {
   "codemirror_mode": {
    "name": "ipython",
    "version": 3
   },
   "file_extension": ".py",
   "mimetype": "text/x-python",
   "name": "python",
   "nbconvert_exporter": "python",
   "pygments_lexer": "ipython3",
   "version": "3.10.15"
  }
 },
 "nbformat": 4,
 "nbformat_minor": 2
}
